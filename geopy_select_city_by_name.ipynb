{
 "cells": [
  {
   "cell_type": "code",
   "execution_count": null,
   "metadata": {
    "collapsed": true
   },
   "outputs": [],
   "source": [
    "## see Most_visited_squares.ipynb\n",
    "\n",
    "#from geopy import Nominatim\n",
    "#def isInCity_geopy(coord, city):\n",
    "#    \"\"\"coord -- string with lat, lon coordinates; return True if coord in city, False otherwise\"\"\"\n",
    "#    geolocator = Nominatim()\n",
    "#    try:\n",
    "#        location = geolocator.reverse(coord)\n",
    "#        if location.raw['address']['city'] == city: # \"Львів\"\n",
    "#            return True\n",
    "#        else: # не \"Львів\"\n",
    "#            return False\n",
    "#    except KeyError: # немає міста взагалі\n",
    "#        return False\n",
    "\n",
    "# виділяємо дані із df_with_locat тільки по Львову\n",
    "# "
   ]
  }
 ],
 "metadata": {
  "anaconda-cloud": {},
  "kernelspec": {
   "display_name": "Python [conda root]",
   "language": "python",
   "name": "conda-root-py"
  },
  "language_info": {
   "codemirror_mode": {
    "name": "ipython",
    "version": 3
   },
   "file_extension": ".py",
   "mimetype": "text/x-python",
   "name": "python",
   "nbconvert_exporter": "python",
   "pygments_lexer": "ipython3",
   "version": "3.5.2"
  }
 },
 "nbformat": 4,
 "nbformat_minor": 1
}
