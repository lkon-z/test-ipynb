{
 "cells": [
  {
   "cell_type": "markdown",
   "metadata": {},
   "source": [
    "### Визначення найбільш відвідуваних квадратів для кожного із абонентів\n",
    "- розбити місто на квадрати;\n",
    "- визначити для кожного користувача, які квадрати \n",
    "\n",
    "__To Do:__ Сортувати по кількості подій від найбільшої до найменшої для кожного абонента; виводити перших 2-3 квадрати"
   ]
  },
  {
   "cell_type": "code",
   "execution_count": 2,
   "metadata": {
    "collapsed": true
   },
   "outputs": [],
   "source": [
    "import pandas as pd\n",
    "import numpy as np"
   ]
  },
  {
   "cell_type": "code",
   "execution_count": 3,
   "metadata": {
    "collapsed": false
   },
   "outputs": [
    {
     "name": "stderr",
     "output_type": "stream",
     "text": [
      "/home/ogilvy/anaconda3/lib/python3.5/site-packages/IPython/core/interactiveshell.py:2717: DtypeWarning: Columns (6,7,8,10,11,12) have mixed types. Specify dtype option on import or set low_memory=False.\n",
      "  interactivity=interactivity, compiler=compiler, result=result)\n"
     ]
    }
   ],
   "source": [
    "df = pd.read_csv(\"BD_LAB_EXAMPLE_SAMPLE.csv\",encoding=\"cp1251\")"
   ]
  },
  {
   "cell_type": "code",
   "execution_count": 4,
   "metadata": {
    "collapsed": true
   },
   "outputs": [],
   "source": [
    "# Convert column `envent_start_date` (`str`) into  `datetime`\n",
    "df.event_start_date = pd.to_datetime(df.event_start_date, format='%d%b%y:%H:%M:%S')\n",
    "\n",
    "# Convert column 'cost' (`str`) into `float`\n",
    "df['cost'] = pd.to_numeric(df['cost'],errors='coerce')"
   ]
  },
  {
   "cell_type": "code",
   "execution_count": 5,
   "metadata": {
    "collapsed": false
   },
   "outputs": [
    {
     "name": "stderr",
     "output_type": "stream",
     "text": [
      "/home/ogilvy/anaconda3/lib/python3.5/site-packages/ipykernel/__main__.py:6: SettingWithCopyWarning: \n",
      "A value is trying to be set on a copy of a slice from a DataFrame.\n",
      "Try using .loc[row_indexer,col_indexer] = value instead\n",
      "\n",
      "See the caveats in the documentation: http://pandas.pydata.org/pandas-docs/stable/indexing.html#indexing-view-versus-copy\n",
      "/home/ogilvy/anaconda3/lib/python3.5/site-packages/ipykernel/__main__.py:7: SettingWithCopyWarning: \n",
      "A value is trying to be set on a copy of a slice from a DataFrame.\n",
      "Try using .loc[row_indexer,col_indexer] = value instead\n",
      "\n",
      "See the caveats in the documentation: http://pandas.pydata.org/pandas-docs/stable/indexing.html#indexing-view-versus-copy\n"
     ]
    }
   ],
   "source": [
    "# Delete rows without latitude -- where LAT = '.'\n",
    "# Write to new dataframe df_with_locat\n",
    "df_with_locat = df[df['LAT'] != '.']\n",
    "\n",
    "# Convert latitude and longitude from `str` into `float`\n",
    "df_with_locat['LAT'] = pd.to_numeric(df_with_locat['LAT'], errors = 'coerce')\n",
    "df_with_locat['LON'] = pd.to_numeric(df_with_locat['LON'], errors = 'coerce')"
   ]
  },
  {
   "cell_type": "markdown",
   "metadata": {},
   "source": [
    "#### Кількість людей в радіусі від центру міста (Львова)"
   ]
  },
  {
   "cell_type": "code",
   "execution_count": 7,
   "metadata": {
    "collapsed": false
   },
   "outputs": [
    {
     "name": "stdout",
     "output_type": "stream",
     "text": [
      "1° of latitude = 111.43 km\n",
      "1° of longitude = 71.93 km\n"
     ]
    }
   ],
   "source": [
    "# Lviv center coordinates\n",
    "center_lat, center_lon = 49.84, 24.03  # Lviv\n",
    "#center_lat, center_lon = 48.28, 25.94  # Chernivtsi\n",
    "\n",
    "\n",
    "## calculate length in km of 1 degree for latitude and longitude\n",
    "a = 6378.137; b = 6356.752 # semiaxis of Earth ellipsoid in km\n",
    "e2 = (a**2 - b**2) / a**2 # eccentricity of Earth\n",
    "\n",
    "# Convert degree to radians\n",
    "def deg_to_rad(phi):\n",
    "    return np.pi * phi / 180\n",
    "\n",
    "# one degree of latitude and longitude in km\n",
    "deg_lat_in_km = np.pi / 180 * a * (1-e2) /\\\n",
    "            (1 - e2*np.sin(deg_to_rad(center_lat)))**1.5\n",
    "deg_lon_in_km = np.pi / 180 * a * np.cos(deg_to_rad(center_lat)) /\\\n",
    "             np.sqrt(1 - e2*np.sin(deg_to_rad(center_lat))**2 )\n",
    "\n",
    "print(\"1° of latitude = {0:5.2f} km\".format(deg_lat_in_km)) \n",
    "print(\"1° of longitude = {0:5.2f} km\".format(deg_lon_in_km))"
   ]
  },
  {
   "cell_type": "code",
   "execution_count": 8,
   "metadata": {
    "collapsed": true
   },
   "outputs": [],
   "source": [
    "#Convert distance in km to degrees\n",
    "def km_to_lat(x):\n",
    "    return x / deg_lat_in_km\n",
    "\n",
    "def km_to_lon(x):\n",
    "    return x / deg_lon_in_km"
   ]
  },
  {
   "cell_type": "code",
   "execution_count": 9,
   "metadata": {
    "collapsed": false
   },
   "outputs": [],
   "source": [
    "# Radius of Lviv \n",
    "city_radius = 10 # km\n",
    "\n",
    "# check if point is inside circle with radius `city_radius` and center in (center_lat, center_lon)\n",
    "def isInCity_radius(lat, lon, center_lat, center_lon, city_radius):\n",
    "    \"\"\"True if (lat,lon) is in City, False otherwise\"\"\"\n",
    "    return ((lat - center_lat)**2 / km_to_lat(city_radius)**2 +\n",
    "            (lon - center_lon)**2 / km_to_lon(city_radius)**2) < 1\n",
    "\n",
    "\n",
    "df_Lviv = df_with_locat[isInCity_radius(df_with_locat['LAT'],df_with_locat['LON'], \n",
    "                                 center_lat, center_lon, city_radius)]\n"
   ]
  },
  {
   "cell_type": "code",
   "execution_count": 10,
   "metadata": {
    "collapsed": false
   },
   "outputs": [
    {
     "data": {
      "text/plain": [
       "45077"
      ]
     },
     "execution_count": 10,
     "metadata": {},
     "output_type": "execute_result"
    }
   ],
   "source": [
    "\n",
    "len(df_Lviv)"
   ]
  },
  {
   "cell_type": "code",
   "execution_count": 11,
   "metadata": {
    "collapsed": false
   },
   "outputs": [
    {
     "name": "stderr",
     "output_type": "stream",
     "text": [
      "/home/ogilvy/anaconda3/lib/python3.5/site-packages/ipykernel/__main__.py:11: SettingWithCopyWarning: \n",
      "A value is trying to be set on a copy of a slice from a DataFrame.\n",
      "Try using .loc[row_indexer,col_indexer] = value instead\n",
      "\n",
      "See the caveats in the documentation: http://pandas.pydata.org/pandas-docs/stable/indexing.html#indexing-view-versus-copy\n"
     ]
    }
   ],
   "source": [
    "# add column with number of square\n",
    "# center of the city has number (0, 0)\n",
    "\n",
    "\n",
    "# square size\n",
    "square_side_in_km = .5 # km\n",
    "dlat = km_to_lat(square_side_in_km) # square side in latitude degrees\n",
    "dlon = km_to_lon(square_side_in_km) # square side in longitude degrees\n",
    "\n",
    "df_Lviv['square'] = list(zip(np.rint((df_Lviv['LAT'] - center_lat) / dlat ), \n",
    "                             np.rint((df_Lviv['LON'] - center_lon) / dlon)))"
   ]
  },
  {
   "cell_type": "code",
   "execution_count": 12,
   "metadata": {
    "collapsed": false
   },
   "outputs": [
    {
     "data": {
      "text/plain": [
       "14420     (-10.0, 5.0)\n",
       "14421    (-15.0, 14.0)\n",
       "14427     (-10.0, 5.0)\n",
       "14430     (-5.0, 16.0)\n",
       "14434     (-10.0, 5.0)\n",
       "Name: square, dtype: object"
      ]
     },
     "execution_count": 12,
     "metadata": {},
     "output_type": "execute_result"
    }
   ],
   "source": [
    "df_Lviv['square'].head()"
   ]
  },
  {
   "cell_type": "code",
   "execution_count": 13,
   "metadata": {
    "collapsed": true
   },
   "outputs": [],
   "source": [
    "# determine number of calls for every `hash_number_A` from different squares\n",
    "square_visits = df_Lviv.groupby(['hash_number_A', 'square']).size()\n"
   ]
  },
  {
   "cell_type": "code",
   "execution_count": 14,
   "metadata": {
    "collapsed": false,
    "scrolled": true
   },
   "outputs": [
    {
     "data": {
      "text/plain": [
       "hash_number_A  square       \n",
       "171195         (-15.0, -3.0)      3\n",
       "               (-14.0, -1.0)      1\n",
       "172162         (-13.0, 10.0)      1\n",
       "               (-1.0, -5.0)       2\n",
       "               (4.0, -7.0)        1\n",
       "172183         (-13.0, 6.0)       1\n",
       "               (-7.0, -5.0)       1\n",
       "               (-1.0, -5.0)       2\n",
       "               (0.0, -4.0)        1\n",
       "               (0.0, 1.0)         3\n",
       "173437         (-15.0, -3.0)      1\n",
       "               (-14.0, 4.0)       1\n",
       "               (-5.0, -15.0)      1\n",
       "               (-3.0, -16.0)      3\n",
       "               (6.0, -14.0)       1\n",
       "               (7.0, -15.0)       2\n",
       "               (12.0, 14.0)       1\n",
       "173781         (-15.0, -0.0)      6\n",
       "               (-14.0, -1.0)      2\n",
       "               (-12.0, -2.0)      1\n",
       "               (-10.0, -1.0)      2\n",
       "               (-9.0, -6.0)       2\n",
       "               (-8.0, -4.0)       3\n",
       "               (-7.0, -5.0)      19\n",
       "               (-7.0, -4.0)     159\n",
       "               (-7.0, -2.0)       2\n",
       "               (-6.0, -8.0)       5\n",
       "               (-6.0, -6.0)      45\n",
       "               (-6.0, 1.0)        3\n",
       "               (-4.0, -5.0)     199\n",
       "               (-4.0, -2.0)       1\n",
       "               (-4.0, -1.0)       1\n",
       "               (-4.0, 3.0)        1\n",
       "               (-4.0, 7.0)        1\n",
       "               (-3.0, -7.0)      11\n",
       "               (-3.0, -5.0)       5\n",
       "               (-3.0, -0.0)       1\n",
       "               (-2.0, -5.0)       1\n",
       "               (-2.0, -3.0)       2\n",
       "               (-2.0, 1.0)        2\n",
       "dtype: int64"
      ]
     },
     "execution_count": 14,
     "metadata": {},
     "output_type": "execute_result"
    }
   ],
   "source": [
    "square_visits.head(40)"
   ]
  },
  {
   "cell_type": "code",
   "execution_count": 15,
   "metadata": {
    "collapsed": false
   },
   "outputs": [
    {
     "data": {
      "text/html": [
       "<div>\n",
       "<table border=\"1\" class=\"dataframe\">\n",
       "  <thead>\n",
       "    <tr style=\"text-align: right;\">\n",
       "      <th></th>\n",
       "      <th>hash_number_A</th>\n",
       "      <th>square</th>\n",
       "      <th>0</th>\n",
       "    </tr>\n",
       "  </thead>\n",
       "  <tbody>\n",
       "    <tr>\n",
       "      <th>0</th>\n",
       "      <td>171195</td>\n",
       "      <td>(-15.0, -3.0)</td>\n",
       "      <td>3</td>\n",
       "    </tr>\n",
       "    <tr>\n",
       "      <th>1</th>\n",
       "      <td>171195</td>\n",
       "      <td>(-14.0, -1.0)</td>\n",
       "      <td>1</td>\n",
       "    </tr>\n",
       "    <tr>\n",
       "      <th>2</th>\n",
       "      <td>172162</td>\n",
       "      <td>(-13.0, 10.0)</td>\n",
       "      <td>1</td>\n",
       "    </tr>\n",
       "    <tr>\n",
       "      <th>3</th>\n",
       "      <td>172162</td>\n",
       "      <td>(-1.0, -5.0)</td>\n",
       "      <td>2</td>\n",
       "    </tr>\n",
       "    <tr>\n",
       "      <th>4</th>\n",
       "      <td>172162</td>\n",
       "      <td>(4.0, -7.0)</td>\n",
       "      <td>1</td>\n",
       "    </tr>\n",
       "  </tbody>\n",
       "</table>\n",
       "</div>"
      ],
      "text/plain": [
       "   hash_number_A         square  0\n",
       "0         171195  (-15.0, -3.0)  3\n",
       "1         171195  (-14.0, -1.0)  1\n",
       "2         172162  (-13.0, 10.0)  1\n",
       "3         172162   (-1.0, -5.0)  2\n",
       "4         172162    (4.0, -7.0)  1"
      ]
     },
     "execution_count": 15,
     "metadata": {},
     "output_type": "execute_result"
    }
   ],
   "source": [
    "df_reset = square_visits.reset_index()\n",
    "df_reset.head()"
   ]
  },
  {
   "cell_type": "code",
   "execution_count": 16,
   "metadata": {
    "collapsed": true
   },
   "outputs": [],
   "source": [
    "df_reset.columns = ['hash_number_A', 'square', 'count']"
   ]
  },
  {
   "cell_type": "code",
   "execution_count": 23,
   "metadata": {
    "collapsed": false
   },
   "outputs": [
    {
     "data": {
      "text/plain": [
       "0     a\n",
       "1     b\n",
       "2     c\n",
       "3    ab\n",
       "4    aa\n",
       "dtype: object"
      ]
     },
     "execution_count": 23,
     "metadata": {},
     "output_type": "execute_result"
    }
   ],
   "source": [
    "ser = pd.Series(['a', 'b', 'c', 'ab', 'aa'])\n",
    "ser"
   ]
  },
  {
   "cell_type": "code",
   "execution_count": 34,
   "metadata": {
    "collapsed": false
   },
   "outputs": [
    {
     "data": {
      "text/plain": [
       "0     a\n",
       "4    aa\n",
       "3    ab\n",
       "1     b\n",
       "2     c\n",
       "dtype: object"
      ]
     },
     "execution_count": 34,
     "metadata": {},
     "output_type": "execute_result"
    }
   ],
   "source": [
    "ser.sort_values()"
   ]
  },
  {
   "cell_type": "code",
   "execution_count": 25,
   "metadata": {
    "collapsed": false
   },
   "outputs": [
    {
     "data": {
      "text/plain": [
       "0     a\n",
       "4    aa\n",
       "3    ab\n",
       "1     b\n",
       "2     c\n",
       "dtype: object"
      ]
     },
     "execution_count": 25,
     "metadata": {},
     "output_type": "execute_result"
    }
   ],
   "source": [
    "ser"
   ]
  },
  {
   "cell_type": "code",
   "execution_count": 33,
   "metadata": {
    "collapsed": false
   },
   "outputs": [
    {
     "ename": "NameError",
     "evalue": "name 'sorted_values' is not defined",
     "output_type": "error",
     "traceback": [
      "\u001b[0;31m---------------------------------------------------------------------------\u001b[0m",
      "\u001b[0;31mNameError\u001b[0m                                 Traceback (most recent call last)",
      "\u001b[0;32m<ipython-input-33-e38895b2e5be>\u001b[0m in \u001b[0;36m<module>\u001b[0;34m()\u001b[0m\n\u001b[1;32m      1\u001b[0m squares2 = df_reset.groupby(['hash_number_A', 'square'])['count'].apply(\n\u001b[0;32m----> 2\u001b[0;31m     lambda x: sorted_values(x))\n\u001b[0m\u001b[1;32m      3\u001b[0m \u001b[0msquares2\u001b[0m\u001b[0;34m.\u001b[0m\u001b[0mhead\u001b[0m\u001b[0;34m(\u001b[0m\u001b[0;34m)\u001b[0m\u001b[0;34m\u001b[0m\u001b[0m\n",
      "\u001b[0;32m/home/ogilvy/anaconda3/lib/python3.5/site-packages/pandas/core/groupby.py\u001b[0m in \u001b[0;36mapply\u001b[0;34m(self, func, *args, **kwargs)\u001b[0m\n\u001b[1;32m    649\u001b[0m         \u001b[0;31m# ignore SettingWithCopy here in case the user mutates\u001b[0m\u001b[0;34m\u001b[0m\u001b[0;34m\u001b[0m\u001b[0m\n\u001b[1;32m    650\u001b[0m         \u001b[0;32mwith\u001b[0m \u001b[0moption_context\u001b[0m\u001b[0;34m(\u001b[0m\u001b[0;34m'mode.chained_assignment'\u001b[0m\u001b[0;34m,\u001b[0m \u001b[0;32mNone\u001b[0m\u001b[0;34m)\u001b[0m\u001b[0;34m:\u001b[0m\u001b[0;34m\u001b[0m\u001b[0m\n\u001b[0;32m--> 651\u001b[0;31m             \u001b[0;32mreturn\u001b[0m \u001b[0mself\u001b[0m\u001b[0;34m.\u001b[0m\u001b[0m_python_apply_general\u001b[0m\u001b[0;34m(\u001b[0m\u001b[0mf\u001b[0m\u001b[0;34m)\u001b[0m\u001b[0;34m\u001b[0m\u001b[0m\n\u001b[0m\u001b[1;32m    652\u001b[0m \u001b[0;34m\u001b[0m\u001b[0m\n\u001b[1;32m    653\u001b[0m     \u001b[0;32mdef\u001b[0m \u001b[0m_python_apply_general\u001b[0m\u001b[0;34m(\u001b[0m\u001b[0mself\u001b[0m\u001b[0;34m,\u001b[0m \u001b[0mf\u001b[0m\u001b[0;34m)\u001b[0m\u001b[0;34m:\u001b[0m\u001b[0;34m\u001b[0m\u001b[0m\n",
      "\u001b[0;32m/home/ogilvy/anaconda3/lib/python3.5/site-packages/pandas/core/groupby.py\u001b[0m in \u001b[0;36m_python_apply_general\u001b[0;34m(self, f)\u001b[0m\n\u001b[1;32m    653\u001b[0m     \u001b[0;32mdef\u001b[0m \u001b[0m_python_apply_general\u001b[0m\u001b[0;34m(\u001b[0m\u001b[0mself\u001b[0m\u001b[0;34m,\u001b[0m \u001b[0mf\u001b[0m\u001b[0;34m)\u001b[0m\u001b[0;34m:\u001b[0m\u001b[0;34m\u001b[0m\u001b[0m\n\u001b[1;32m    654\u001b[0m         keys, values, mutated = self.grouper.apply(f, self._selected_obj,\n\u001b[0;32m--> 655\u001b[0;31m                                                    self.axis)\n\u001b[0m\u001b[1;32m    656\u001b[0m \u001b[0;34m\u001b[0m\u001b[0m\n\u001b[1;32m    657\u001b[0m         return self._wrap_applied_output(\n",
      "\u001b[0;32m/home/ogilvy/anaconda3/lib/python3.5/site-packages/pandas/core/groupby.py\u001b[0m in \u001b[0;36mapply\u001b[0;34m(self, f, data, axis)\u001b[0m\n\u001b[1;32m   1525\u001b[0m             \u001b[0;31m# group might be modified\u001b[0m\u001b[0;34m\u001b[0m\u001b[0;34m\u001b[0m\u001b[0m\n\u001b[1;32m   1526\u001b[0m             \u001b[0mgroup_axes\u001b[0m \u001b[0;34m=\u001b[0m \u001b[0m_get_axes\u001b[0m\u001b[0;34m(\u001b[0m\u001b[0mgroup\u001b[0m\u001b[0;34m)\u001b[0m\u001b[0;34m\u001b[0m\u001b[0m\n\u001b[0;32m-> 1527\u001b[0;31m             \u001b[0mres\u001b[0m \u001b[0;34m=\u001b[0m \u001b[0mf\u001b[0m\u001b[0;34m(\u001b[0m\u001b[0mgroup\u001b[0m\u001b[0;34m)\u001b[0m\u001b[0;34m\u001b[0m\u001b[0m\n\u001b[0m\u001b[1;32m   1528\u001b[0m             \u001b[0;32mif\u001b[0m \u001b[0;32mnot\u001b[0m \u001b[0m_is_indexed_like\u001b[0m\u001b[0;34m(\u001b[0m\u001b[0mres\u001b[0m\u001b[0;34m,\u001b[0m \u001b[0mgroup_axes\u001b[0m\u001b[0;34m)\u001b[0m\u001b[0;34m:\u001b[0m\u001b[0;34m\u001b[0m\u001b[0m\n\u001b[1;32m   1529\u001b[0m                 \u001b[0mmutated\u001b[0m \u001b[0;34m=\u001b[0m \u001b[0;32mTrue\u001b[0m\u001b[0;34m\u001b[0m\u001b[0m\n",
      "\u001b[0;32m/home/ogilvy/anaconda3/lib/python3.5/site-packages/pandas/core/groupby.py\u001b[0m in \u001b[0;36mf\u001b[0;34m(g)\u001b[0m\n\u001b[1;32m    645\u001b[0m         \u001b[0;34m@\u001b[0m\u001b[0mwraps\u001b[0m\u001b[0;34m(\u001b[0m\u001b[0mfunc\u001b[0m\u001b[0;34m)\u001b[0m\u001b[0;34m\u001b[0m\u001b[0m\n\u001b[1;32m    646\u001b[0m         \u001b[0;32mdef\u001b[0m \u001b[0mf\u001b[0m\u001b[0;34m(\u001b[0m\u001b[0mg\u001b[0m\u001b[0;34m)\u001b[0m\u001b[0;34m:\u001b[0m\u001b[0;34m\u001b[0m\u001b[0m\n\u001b[0;32m--> 647\u001b[0;31m             \u001b[0;32mreturn\u001b[0m \u001b[0mfunc\u001b[0m\u001b[0;34m(\u001b[0m\u001b[0mg\u001b[0m\u001b[0;34m,\u001b[0m \u001b[0;34m*\u001b[0m\u001b[0margs\u001b[0m\u001b[0;34m,\u001b[0m \u001b[0;34m**\u001b[0m\u001b[0mkwargs\u001b[0m\u001b[0;34m)\u001b[0m\u001b[0;34m\u001b[0m\u001b[0m\n\u001b[0m\u001b[1;32m    648\u001b[0m \u001b[0;34m\u001b[0m\u001b[0m\n\u001b[1;32m    649\u001b[0m         \u001b[0;31m# ignore SettingWithCopy here in case the user mutates\u001b[0m\u001b[0;34m\u001b[0m\u001b[0;34m\u001b[0m\u001b[0m\n",
      "\u001b[0;32m<ipython-input-33-e38895b2e5be>\u001b[0m in \u001b[0;36m<lambda>\u001b[0;34m(x)\u001b[0m\n\u001b[1;32m      1\u001b[0m squares2 = df_reset.groupby(['hash_number_A', 'square'])['count'].apply(\n\u001b[0;32m----> 2\u001b[0;31m     lambda x: sorted_values(x))\n\u001b[0m\u001b[1;32m      3\u001b[0m \u001b[0msquares2\u001b[0m\u001b[0;34m.\u001b[0m\u001b[0mhead\u001b[0m\u001b[0;34m(\u001b[0m\u001b[0;34m)\u001b[0m\u001b[0;34m\u001b[0m\u001b[0m\n",
      "\u001b[0;31mNameError\u001b[0m: name 'sorted_values' is not defined"
     ]
    }
   ],
   "source": [
    "squares2 = df_reset.groupby(['hash_number_A', 'square'])['count'].apply(\n",
    "    lambda x: sorted_values(x))\n",
    "squares2.head()"
   ]
  },
  {
   "cell_type": "code",
   "execution_count": 30,
   "metadata": {
    "collapsed": false
   },
   "outputs": [
    {
     "data": {
      "text/plain": [
       "hash_number_A  square       \n",
       "171195         (-15.0, -3.0)    None\n",
       "               (-14.0, -1.0)    None\n",
       "172162         (-13.0, 10.0)    None\n",
       "               (-1.0, -5.0)     None\n",
       "               (4.0, -7.0)      None\n",
       "172183         (-13.0, 6.0)     None\n",
       "               (-7.0, -5.0)     None\n",
       "               (-1.0, -5.0)     None\n",
       "               (0.0, -4.0)      None\n",
       "               (0.0, 1.0)       None\n",
       "Name: count, dtype: object"
      ]
     },
     "execution_count": 30,
     "metadata": {},
     "output_type": "execute_result"
    }
   ],
   "source": [
    "squares2.head(10)"
   ]
  },
  {
   "cell_type": "code",
   "execution_count": 28,
   "metadata": {
    "collapsed": false
   },
   "outputs": [
    {
     "data": {
      "text/plain": [
       "pandas.core.series.Series"
      ]
     },
     "execution_count": 28,
     "metadata": {},
     "output_type": "execute_result"
    }
   ],
   "source": [
    "type(squares2)"
   ]
  },
  {
   "cell_type": "code",
   "execution_count": 32,
   "metadata": {
    "collapsed": false
   },
   "outputs": [
    {
     "data": {
      "text/plain": [
       "hash_number_A  square       \n",
       "171195         (-15.0, -3.0)    3\n",
       "               (-14.0, -1.0)    1\n",
       "172162         (-13.0, 10.0)    1\n",
       "               (-1.0, -5.0)     2\n",
       "               (4.0, -7.0)      1\n",
       "dtype: int64"
      ]
     },
     "execution_count": 32,
     "metadata": {},
     "output_type": "execute_result"
    }
   ],
   "source": [
    "square_visits.head()"
   ]
  }
 ],
 "metadata": {
  "anaconda-cloud": {},
  "kernelspec": {
   "display_name": "Python [default]",
   "language": "python",
   "name": "python3"
  },
  "language_info": {
   "codemirror_mode": {
    "name": "ipython",
    "version": 3
   },
   "file_extension": ".py",
   "mimetype": "text/x-python",
   "name": "python",
   "nbconvert_exporter": "python",
   "pygments_lexer": "ipython3",
   "version": "3.5.2"
  },
  "toc": {
   "colors": {
    "hover_highlight": "#DAA520",
    "running_highlight": "#FF0000",
    "selected_highlight": "#FFD700"
   },
   "moveMenuLeft": true,
   "nav_menu": {
    "height": "191px",
    "width": "252px"
   },
   "navigate_menu": true,
   "number_sections": true,
   "sideBar": true,
   "threshold": 4,
   "toc_cell": false,
   "toc_section_display": "block",
   "toc_window_display": false,
   "widenNotebook": false
  }
 },
 "nbformat": 4,
 "nbformat_minor": 2
}
