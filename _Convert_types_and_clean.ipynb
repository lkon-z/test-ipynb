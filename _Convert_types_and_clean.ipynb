{
 "cells": [
  {
   "cell_type": "markdown",
   "metadata": {},
   "source": [
    "### Перетворення типів датасету із рядкового до більш зручного для обробки\n",
    "_деякі довідкові дані_"
   ]
  },
  {
   "cell_type": "code",
   "execution_count": 2,
   "metadata": {
    "collapsed": true
   },
   "outputs": [],
   "source": [
    "import pandas as pd"
   ]
  },
  {
   "cell_type": "code",
   "execution_count": 3,
   "metadata": {
    "collapsed": false
   },
   "outputs": [
    {
     "name": "stderr",
     "output_type": "stream",
     "text": [
      "/opt/anaconda3/lib/python3.6/site-packages/IPython/core/interactiveshell.py:2683: DtypeWarning: Columns (0,6,8,9,10,11,12,13,15) have mixed types. Specify dtype option on import or set low_memory=False.\n",
      "  interactivity=interactivity, compiler=compiler, result=result)\n"
     ]
    }
   ],
   "source": [
    "# 35 sec\n",
    "# завантажити семпл в df\n",
    "df = pd.read_csv(\"/dataset/bd_lab_small_sample.csv\")"
   ]
  },
  {
   "cell_type": "markdown",
   "metadata": {},
   "source": [
    "#### Перетворити стовпчик `envent_start_date` (тип `str`) на тип   `datetime`\n",
    "**50 sec**"
   ]
  },
  {
   "cell_type": "code",
   "execution_count": 4,
   "metadata": {
    "collapsed": true
   },
   "outputs": [],
   "source": [
    "# timing: 45-50 sec\n",
    "df.event_start_date = pd.to_datetime(df.event_start_date, format='%d%b%y:%H:%M:%S')"
   ]
  },
  {
   "cell_type": "markdown",
   "metadata": {},
   "source": [
    "(для довідки) http://strftime.org/ -- що підставляти в параметр `format`"
   ]
  },
  {
   "cell_type": "code",
   "execution_count": 5,
   "metadata": {
    "collapsed": false
   },
   "outputs": [
    {
     "name": "stdout",
     "output_type": "stream",
     "text": [
      "2017-06-01 00:00:00\n",
      "2017-08-31 23:59:59\n"
     ]
    }
   ],
   "source": [
    "# мінімальна та максимальна дати в датасеті\n",
    "print(df.event_start_date.min())\n",
    "print(df.event_start_date.max())"
   ]
  },
  {
   "cell_type": "markdown",
   "metadata": {},
   "source": [
    "#### Перетворення стовчика 'cost' (тип `str`) на  число (`float`)"
   ]
  },
  {
   "cell_type": "code",
   "execution_count": 5,
   "metadata": {
    "collapsed": true
   },
   "outputs": [],
   "source": [
    "# 5 sec\n",
    "df['cost'] = pd.to_numeric(df['cost'],errors='coerce')"
   ]
  },
  {
   "cell_type": "markdown",
   "metadata": {},
   "source": [
    "#### Групування даних "
   ]
  },
  {
   "cell_type": "code",
   "execution_count": 6,
   "metadata": {
    "collapsed": false
   },
   "outputs": [
    {
     "data": {
      "text/plain": [
       "hash_number_A\n",
       "148752      0.0000\n",
       "149001    110.9969\n",
       "149147     51.4993\n",
       "149207    113.5000\n",
       "149342      0.0000\n",
       "149749    177.9030\n",
       "149854     53.3176\n",
       "149996    282.2254\n",
       "150624    282.4945\n",
       "150964    106.5099\n",
       "Name: cost, dtype: float64"
      ]
     },
     "execution_count": 6,
     "metadata": {},
     "output_type": "execute_result"
    }
   ],
   "source": [
    "# знаходження загальної суми розмов для кожного користувача\n",
    "df.pivot_table(values = 'cost', index = 'hash_number_A', aggfunc = sum).head(10)"
   ]
  },
  {
   "cell_type": "markdown",
   "metadata": {},
   "source": [
    "#### Видалення даних із незаповненою геолокацією"
   ]
  },
  {
   "cell_type": "code",
   "execution_count": 10,
   "metadata": {
    "collapsed": false
   },
   "outputs": [
    {
     "data": {
      "text/plain": [
       "True"
      ]
     },
     "execution_count": 10,
     "metadata": {},
     "output_type": "execute_result"
    }
   ],
   "source": [
    "# чи є дані без геолокації (широта 'LAN' == '.')?\n",
    "import numpy as np\n",
    "np.any(df['LAT'] == \".\")"
   ]
  },
  {
   "cell_type": "code",
   "execution_count": 11,
   "metadata": {
    "collapsed": true
   },
   "outputs": [],
   "source": [
    "# видаляємо дані, де відсутнє значення довготи LAT = '.'\n",
    "# записуємо в новий датафрейм df_with_locat\n",
    "df_with_locat = df[df['LAT'] != '.']"
   ]
  },
  {
   "cell_type": "code",
   "execution_count": 12,
   "metadata": {
    "collapsed": false
   },
   "outputs": [
    {
     "data": {
      "text/plain": [
       "False"
      ]
     },
     "execution_count": 12,
     "metadata": {},
     "output_type": "execute_result"
    }
   ],
   "source": [
    "# перевіряємо, чи є ще дані без вказаної широти\n",
    "np.any(df_with_locat['LAT']==\".\")"
   ]
  },
  {
   "cell_type": "code",
   "execution_count": 13,
   "metadata": {
    "collapsed": false
   },
   "outputs": [
    {
     "data": {
      "text/plain": [
       "10043183"
      ]
     },
     "execution_count": 13,
     "metadata": {},
     "output_type": "execute_result"
    }
   ],
   "source": [
    "# Кількість записів із геолокацією\n",
    "len(df_with_locat)"
   ]
  },
  {
   "cell_type": "code",
   "execution_count": 14,
   "metadata": {
    "collapsed": false
   },
   "outputs": [
    {
     "data": {
      "text/plain": [
       "10184607"
      ]
     },
     "execution_count": 14,
     "metadata": {},
     "output_type": "execute_result"
    }
   ],
   "source": [
    "# Для порівняння -- Кількість записів у вихідному датасеті\n",
    "len(df)"
   ]
  },
  {
   "cell_type": "code",
   "execution_count": 15,
   "metadata": {
    "collapsed": false
   },
   "outputs": [
    {
     "data": {
      "text/plain": [
       "False"
      ]
     },
     "execution_count": 15,
     "metadata": {},
     "output_type": "execute_result"
    }
   ],
   "source": [
    "# чи є довготи LON?\n",
    "np.any(df_with_locat['LON']==\".\")"
   ]
  },
  {
   "cell_type": "markdown",
   "metadata": {},
   "source": [
    "#### Кількість людей в радіусі від центру Львова"
   ]
  },
  {
   "cell_type": "code",
   "execution_count": 16,
   "metadata": {
    "collapsed": false
   },
   "outputs": [
    {
     "name": "stderr",
     "output_type": "stream",
     "text": [
      "/opt/anaconda3/lib/python3.6/site-packages/pandas/core/generic.py:2773: SettingWithCopyWarning: \n",
      "A value is trying to be set on a copy of a slice from a DataFrame.\n",
      "Try using .loc[row_indexer,col_indexer] = value instead\n",
      "\n",
      "See the caveats in the documentation: http://pandas.pydata.org/pandas-docs/stable/indexing.html#indexing-view-versus-copy\n",
      "  self[name] = value\n"
     ]
    }
   ],
   "source": [
    "# Перетворюємо дані широти та довготи із `str` на `float`\n",
    "df_with_locat.LAT = pd.to_numeric(df_with_locat.LAT, errors = 'coerce')\n",
    "df_with_locat.LON = pd.to_numeric(df_with_locat.LON, errors = 'coerce')"
   ]
  },
  {
   "cell_type": "code",
   "execution_count": 17,
   "metadata": {
    "collapsed": true
   },
   "outputs": [],
   "source": [
    "# координати центру міста (Львів)\n",
    "center_lat, center_lon = 49.84, 24.03\n",
    "# 0.1 градуса в координатах  = 7 км\n",
    "dist_from_center = 0.2 # 14 км = 7 * 0.2\n",
    "\n",
    "# виділяємо дані із df_with_locat тільки по Львову\n",
    "# \n",
    "df_Lviv = df_with_locat[(df_with_locat['LAT'] - center_lat)**2 + \n",
    "                        (df_with_locat['LON'] - center_lon)**2 < dist_from_center**2]"
   ]
  },
  {
   "cell_type": "code",
   "execution_count": 18,
   "metadata": {
    "collapsed": false
   },
   "outputs": [
    {
     "data": {
      "text/plain": [
       "414062"
      ]
     },
     "execution_count": 18,
     "metadata": {},
     "output_type": "execute_result"
    }
   ],
   "source": [
    "# дивимося скільки записів залишилося на відстані 0.2 градуси (14 км) від центру Львова\n",
    "len(df_Lviv)"
   ]
  },
  {
   "cell_type": "markdown",
   "metadata": {},
   "source": [
    "#### карти -- `mapbox`"
   ]
  },
  {
   "cell_type": "code",
   "execution_count": 33,
   "metadata": {
    "collapsed": false
   },
   "outputs": [
    {
     "data": {
      "text/plain": [
       "True"
      ]
     },
     "execution_count": 33,
     "metadata": {},
     "output_type": "execute_result"
    }
   ],
   "source": [
    "import gmplot\n",
    "import webbrowser\n",
    "\n",
    "#pathlon = -117.2974695,-117.2980671,-117.2984607,-117.2979182,-117.2974082,-117.2966604,-117.2977518,-117.2987498,-117.2981491,-117.297708,-117.2972804,-117.2965301,-117.2979485,-117.2975028,-117.2980506,-117.2982983,-117.2976609,-117.2970861,-117.2969908,-117.2981731,-117.2987695,-117.2981146,-117.2976909,-117.2969674,-117.2969299,-117.298394\n",
    "#pathlat = 33.27172039,33.27197757,33.27217535,33.27225324,33.27218351,33.27233921,33.27242614,33.27248971,33.27268346,33.27265944,33.27263664,33.27279608,33.27281652,33.27194103,33.27176546,33.27224514,33.27222714,33.27208829,33.27237357,33.27243373,33.27262189,33.27268296,33.27265933,33.27262125,33.27282274,33.27283925\n",
    "\n",
    "#pathlat = 49.84, 49.94, 49.94, 49.84, 49.84\n",
    "#pathlon = 24.03, 24.03, 24.13, 24.13, 24.03\n",
    "\n",
    "\n",
    "lats = df_Lviv['LAT']\n",
    "lngs = df_Lviv['LON']\n",
    "\n",
    "gmap = gmplot.GoogleMapPlotter(49.84, 24.03, 15)\n",
    "#gmap.scatter(lats, lngs, 'blue', marker=False)\n",
    "gmap.heatmap(lats, lngs)\n",
    "#gmap.scatter(lats, lngs, 'k', size = 40, marker=True)\n",
    "\n",
    "#gmap.plot(pathlat,pathlon,'cornflowerblue', edge_width=10)\n",
    "\n",
    "gmap.draw('map_Lviv.html')\n",
    "filename = 'map_Lviv.html'\n",
    "webbrowser.open_new_tab(filename)"
   ]
  },
  {
   "cell_type": "code",
   "execution_count": 40,
   "metadata": {
    "collapsed": false
   },
   "outputs": [
    {
     "name": "stderr",
     "output_type": "stream",
     "text": [
      "/opt/anaconda3/lib/python3.6/site-packages/ipykernel/__main__.py:2: SettingWithCopyWarning: \n",
      "A value is trying to be set on a copy of a slice from a DataFrame.\n",
      "Try using .loc[row_indexer,col_indexer] = value instead\n",
      "\n",
      "See the caveats in the documentation: http://pandas.pydata.org/pandas-docs/stable/indexing.html#indexing-view-versus-copy\n",
      "  from ipykernel import kernelapp as app\n"
     ]
    }
   ],
   "source": [
    "#Виділяємо НІЧ\n",
    "df_Lviv['time_hour']=df_Lviv['event_start_date'].dt.hour\n",
    "\n",
    "df_Lviv_night = df_Lviv[(df_Lviv['time_hour'] >= 23) | (df_Lviv['time_hour'] <= 5)]\n"
   ]
  },
  {
   "cell_type": "code",
   "execution_count": null,
   "metadata": {
    "collapsed": true
   },
   "outputs": [],
   "source": [
    "import gmplot\n",
    "import webbrowser\n",
    "\n",
    "#pathlon = -117.2974695,-117.2980671,-117.2984607,-117.2979182,-117.2974082,-117.2966604,-117.2977518,-117.2987498,-117.2981491,-117.297708,-117.2972804,-117.2965301,-117.2979485,-117.2975028,-117.2980506,-117.2982983,-117.2976609,-117.2970861,-117.2969908,-117.2981731,-117.2987695,-117.2981146,-117.2976909,-117.2969674,-117.2969299,-117.298394\n",
    "#pathlat = 33.27172039,33.27197757,33.27217535,33.27225324,33.27218351,33.27233921,33.27242614,33.27248971,33.27268346,33.27265944,33.27263664,33.27279608,33.27281652,33.27194103,33.27176546,33.27224514,33.27222714,33.27208829,33.27237357,33.27243373,33.27262189,33.27268296,33.27265933,33.27262125,33.27282274,33.27283925\n",
    "\n",
    "#pathlat = 49.84, 49.94, 49.94, 49.84, 49.84\n",
    "#pathlon = 24.03, 24.03, 24.13, 24.13, 24.03\n",
    "\n",
    "\n",
    "lats = df_Lviv_night['LAT']\n",
    "lngs = df_Lviv_night['LON']\n",
    "\n",
    "gmap = gmplot.GoogleMapPlotter(49.84, 24.03, 14)\n",
    "#gmap.scatter(lats, lngs, 'blue', marker=False)\n",
    "gmap.heatmap(lats, lngs)\n",
    "#gmap.scatter(lats, lngs, 'k', size = 40, marker=True)\n",
    "\n",
    "#gmap.plot(pathlat,pathlon,'cornflowerblue', edge_width=10)\n",
    "\n",
    "gmap.draw('map_Lviv_night.html')\n",
    "filename = 'map_Lviv_night.html'\n",
    "webbrowser.open_new_tab(filename)"
   ]
  },
  {
   "cell_type": "code",
   "execution_count": 50,
   "metadata": {
    "collapsed": false
   },
   "outputs": [
    {
     "name": "stderr",
     "output_type": "stream",
     "text": [
      "/opt/anaconda3/lib/python3.6/site-packages/ipykernel/__main__.py:3: SettingWithCopyWarning: \n",
      "A value is trying to be set on a copy of a slice from a DataFrame.\n",
      "Try using .loc[row_indexer,col_indexer] = value instead\n",
      "\n",
      "See the caveats in the documentation: http://pandas.pydata.org/pandas-docs/stable/indexing.html#indexing-view-versus-copy\n",
      "  app.launch_new_instance()\n"
     ]
    },
    {
     "data": {
      "text/plain": [
       "True"
      ]
     },
     "execution_count": 50,
     "metadata": {},
     "output_type": "execute_result"
    }
   ],
   "source": [
    "# Виділяємо для нічних туристів вихідні\n",
    "import datetime as dt\n",
    "df_Lviv_night['weekday'] = df_Lviv_night['event_start_date'].dt.dayofweek\n",
    "\n",
    "df_567 = df_Lviv_night[(df_Lviv_night.weekday == 5) | (df_Lviv_night.weekday == 6) | (df_Lviv_night.weekday == 7)]\n",
    "\n",
    "\n",
    "lats = df_567['LAT']\n",
    "lngs = df_567['LON']\n",
    "\n",
    "gmap = gmplot.GoogleMapPlotter(49.84, 24.03, 14)\n",
    "#gmap.scatter(lats, lngs, 'blue', marker=False)\n",
    "gmap.heatmap(lats, lngs)\n",
    "#gmap.scatter(lats, lngs, 'k', size = 40, marker=True)\n",
    "\n",
    "#gmap.plot(pathlat,pathlon,'cornflowerblue', edge_width=10)\n",
    "\n",
    "gmap.draw('map_Lviv_weekend.html')\n",
    "filename = 'map_Lviv_weekend.html'\n",
    "webbrowser.open_new_tab(filename)"
   ]
  },
  {
   "cell_type": "markdown",
   "metadata": {},
   "source": [
    "#### Зворотня геолокація із `geopy`"
   ]
  },
  {
   "cell_type": "code",
   "execution_count": 4,
   "metadata": {
    "collapsed": true
   },
   "outputs": [],
   "source": [
    "# Для доустановки geopy в інстансі \n",
    "#  sudo /opt/anaconda3/bin/pip install geopy # в PuTTY"
   ]
  },
  {
   "cell_type": "code",
   "execution_count": 19,
   "metadata": {
    "collapsed": false
   },
   "outputs": [
    {
     "name": "stdout",
     "output_type": "stream",
     "text": [
      "Львів\n",
      "no city here\n"
     ]
    }
   ],
   "source": [
    "from geopy import Nominatim\n",
    "geolocator = Nominatim()\n",
    "\n",
    "location = geolocator.reverse(\"49.84,24.03\")\n",
    "print(location.raw['address']['city'])\n",
    "\n",
    "try:\n",
    "    location = geolocator.reverse(\"48.30,32.16\")\n",
    "    print(location.raw['address']['city'])\n",
    "except KeyError:\n",
    "    print('no city here')\n"
   ]
  },
  {
   "cell_type": "markdown",
   "metadata": {
    "collapsed": true
   },
   "source": [
    "функція для перевірки входження координати `coord` в місто `city`"
   ]
  },
  {
   "cell_type": "code",
   "execution_count": 20,
   "metadata": {
    "collapsed": true
   },
   "outputs": [],
   "source": [
    "from geopy import Nominatim\n",
    "def isInCity(coord, city):\n",
    "    \"\"\"coord -- string with lat, lon coordinates; return True if coord in city, False otherwise\"\"\"\n",
    "    geolocator = Nominatim()\n",
    "    location = geolocator.reverse(coord)\n",
    "    try:\n",
    "        location = geolocator.reverse(coord)\n",
    "        if location.raw['address']['city'] == city: # \"Львів\"\n",
    "            return True\n",
    "        else: # не \"Львів\"\n",
    "            return False\n",
    "    except KeyError: # немає міста взагалі\n",
    "        return False\n"
   ]
  },
  {
   "cell_type": "markdown",
   "metadata": {},
   "source": [
    "#### Поділ туристи / не туристи кількістю проведених днів\n",
    "1) якщо більше 14 днів між мінімальною та максимальною датою дзвінка для даного id, коли він у Львові, то \"не турист\"\n",
    "2) якщо відсоток дзвінків за розглядуваний період у Львові більше, ніж ____, то \"не турист\""
   ]
  },
  {
   "cell_type": "code",
   "execution_count": 24,
   "metadata": {
    "collapsed": false
   },
   "outputs": [
    {
     "data": {
      "text/plain": [
       "hash_number_A\n",
       "149854    0 days 02:35:32\n",
       "151558    0 days 00:00:00\n",
       "151834   37 days 19:37:12\n",
       "153597   42 days 22:04:53\n",
       "154194    2 days 19:48:42\n",
       "Name: event_start_date, dtype: timedelta64[ns]"
      ]
     },
     "execution_count": 24,
     "metadata": {},
     "output_type": "execute_result"
    }
   ],
   "source": [
    "# обрахувати час у Львові для кожної людини\n",
    "time_in_Lviv = df_Lviv.groupby('hash_number_A')['event_start_date'].max() \\\n",
    "- df_Lviv.groupby('hash_number_A')['event_start_date'].min()\n",
    "time_in_Lviv.head()"
   ]
  },
  {
   "cell_type": "code",
   "execution_count": 25,
   "metadata": {
    "collapsed": false
   },
   "outputs": [
    {
     "data": {
      "text/plain": [
       "1084"
      ]
     },
     "execution_count": 25,
     "metadata": {},
     "output_type": "execute_result"
    }
   ],
   "source": [
    "from datetime import timedelta\n",
    "dt_tourist = timedelta(days=7)  # граничний час перебування у Львові туриста\n",
    "\n",
    "# ті, чий час перебування у Львові < 14 днів\n",
    "tourist_hashes = time_in_Lviv[time_in_Lviv < dt_tourist]\n",
    "tourists_list = list(tourist_hashes.index)\n",
    "len(tourist_hashes)"
   ]
  },
  {
   "cell_type": "code",
   "execution_count": 26,
   "metadata": {
    "collapsed": false
   },
   "outputs": [
    {
     "data": {
      "text/plain": [
       "180    2623046\n",
       "194    2480764\n",
       "210    2480764\n",
       "212     619074\n",
       "218    1077431\n",
       "Name: hash_number_A, dtype: object"
      ]
     },
     "execution_count": 26,
     "metadata": {},
     "output_type": "execute_result"
    }
   ],
   "source": [
    "df_Lviv['hash_number_A'].head()"
   ]
  },
  {
   "cell_type": "code",
   "execution_count": null,
   "metadata": {
    "collapsed": true
   },
   "outputs": [],
   "source": [
    "# всі дзвінки туристів у Львові\n",
    "#df_Lviv_tourists = df_Lviv[np.in1d(df_Lviv['hash_number_A'], tourists_list)]\n",
    "\n",
    "df_Lviv_tourists = df_Lviv[np.in1d(df_Lviv['hash_number_A'], tourists_list)]"
   ]
  },
  {
   "cell_type": "markdown",
   "metadata": {},
   "source": [
    "####  Добавление столбца с номером дня недели"
   ]
  },
  {
   "cell_type": "code",
   "execution_count": 23,
   "metadata": {
    "collapsed": false
   },
   "outputs": [
    {
     "name": "stderr",
     "output_type": "stream",
     "text": [
      "/opt/anaconda3/lib/python3.6/site-packages/ipykernel/__main__.py:2: SettingWithCopyWarning: \n",
      "A value is trying to be set on a copy of a slice from a DataFrame.\n",
      "Try using .loc[row_indexer,col_indexer] = value instead\n",
      "\n",
      "See the caveats in the documentation: http://pandas.pydata.org/pandas-docs/stable/indexing.html#indexing-view-versus-copy\n",
      "  from ipykernel import kernelapp as app\n"
     ]
    }
   ],
   "source": [
    "import datetime as dt\n",
    "df_Lviv_tourists['weekday'] = df_Lviv_tourists['event_start_date'].dt.dayofweek"
   ]
  },
  {
   "cell_type": "markdown",
   "metadata": {
    "collapsed": true
   },
   "source": [
    "#### Добавление столбца с временем (час)"
   ]
  },
  {
   "cell_type": "code",
   "execution_count": null,
   "metadata": {
    "collapsed": true
   },
   "outputs": [],
   "source": [
    "df_Lviv_tourists['time_hour']=df_Lviv_tourists['event_start_date'].dt.hour"
   ]
  }
 ],
 "metadata": {
  "anaconda-cloud": {},
  "kernelspec": {
   "display_name": "Python [default]",
   "language": "python",
   "name": "python3"
  },
  "language_info": {
   "codemirror_mode": {
    "name": "ipython",
    "version": 3
   },
   "file_extension": ".py",
   "mimetype": "text/x-python",
   "name": "python",
   "nbconvert_exporter": "python",
   "pygments_lexer": "ipython3",
   "version": "3.5.2"
  },
  "toc": {
   "colors": {
    "hover_highlight": "#DAA520",
    "running_highlight": "#FF0000",
    "selected_highlight": "#FFD700"
   },
   "moveMenuLeft": true,
   "nav_menu": {
    "height": "191px",
    "width": "252px"
   },
   "navigate_menu": true,
   "number_sections": true,
   "sideBar": true,
   "threshold": 4,
   "toc_cell": false,
   "toc_section_display": "block",
   "toc_window_display": false,
   "widenNotebook": false
  }
 },
 "nbformat": 4,
 "nbformat_minor": 2
}
