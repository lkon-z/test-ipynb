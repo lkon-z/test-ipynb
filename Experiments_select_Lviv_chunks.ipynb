{
 "cells": [
  {
   "cell_type": "markdown",
   "metadata": {},
   "source": [
    "### Визначення найбільш відвідуваних квадратів для кожного із абонентів\n",
    "- розбити місто на квадрати;\n",
    "- визначити для кожного користувача, які квадрати \n",
    "\n",
    "__To Do:__ Сортувати по кількості подій від найбільшої до найменшої для кожного абонента; виводити перших 2-3 квадрати"
   ]
  },
  {
   "cell_type": "code",
   "execution_count": 6,
   "metadata": {
    "collapsed": true
   },
   "outputs": [],
   "source": [
    "import pandas as pd\n",
    "import numpy as np\n",
    "import os\n",
    "import datetime\n",
    "\n",
    "pd.set_option('display.max_columns', 50)"
   ]
  },
  {
   "cell_type": "code",
   "execution_count": 8,
   "metadata": {
    "collapsed": false,
    "scrolled": true
   },
   "outputs": [
    {
     "data": {
      "text/html": [
       "<div>\n",
       "<table border=\"1\" class=\"dataframe\">\n",
       "  <thead>\n",
       "    <tr style=\"text-align: right;\">\n",
       "      <th></th>\n",
       "      <th>hash_number_A</th>\n",
       "      <th>hash_tariff</th>\n",
       "      <th>event_type</th>\n",
       "      <th>event_sub</th>\n",
       "      <th>network_service_direction</th>\n",
       "      <th>event_start_date</th>\n",
       "      <th>hash_b_number</th>\n",
       "      <th>number_B_category</th>\n",
       "      <th>cost</th>\n",
       "      <th>call_duration_minutes</th>\n",
       "      <th>data_volume_mb</th>\n",
       "      <th>hash_accum_code</th>\n",
       "      <th>LAT</th>\n",
       "      <th>LON</th>\n",
       "      <th>device_type</th>\n",
       "      <th>phone_price_category</th>\n",
       "      <th>interest_1</th>\n",
       "      <th>interest_2</th>\n",
       "      <th>interest_3</th>\n",
       "      <th>interest_4</th>\n",
       "      <th>interest_5</th>\n",
       "      <th>test_flag</th>\n",
       "      <th>target</th>\n",
       "      <th>facebook_user</th>\n",
       "      <th>instagram_user</th>\n",
       "      <th>twitter_user</th>\n",
       "      <th>youtube_user</th>\n",
       "      <th>viber_user</th>\n",
       "      <th>whatsapp_user</th>\n",
       "      <th>skype_user</th>\n",
       "    </tr>\n",
       "  </thead>\n",
       "  <tbody>\n",
       "    <tr>\n",
       "      <th>0</th>\n",
       "      <td>148731</td>\n",
       "      <td>239056</td>\n",
       "      <td>network_ser</td>\n",
       "      <td>content</td>\n",
       "      <td>Incoming</td>\n",
       "      <td>28AUG2017:00:53:31</td>\n",
       "      <td>188014.0</td>\n",
       "      <td></td>\n",
       "      <td>0.0</td>\n",
       "      <td>0.0</td>\n",
       "      <td>0.0</td>\n",
       "      <td>0.0</td>\n",
       "      <td>49.80861</td>\n",
       "      <td>24.017222</td>\n",
       "      <td></td>\n",
       "      <td>1.0</td>\n",
       "      <td></td>\n",
       "      <td></td>\n",
       "      <td></td>\n",
       "      <td></td>\n",
       "      <td></td>\n",
       "      <td>0</td>\n",
       "      <td>1</td>\n",
       "      <td>0</td>\n",
       "      <td>0</td>\n",
       "      <td>0</td>\n",
       "      <td>0</td>\n",
       "      <td>0</td>\n",
       "      <td>0</td>\n",
       "      <td>0</td>\n",
       "    </tr>\n",
       "    <tr>\n",
       "      <th>1</th>\n",
       "      <td>148731</td>\n",
       "      <td>239056</td>\n",
       "      <td>network_ser</td>\n",
       "      <td>content</td>\n",
       "      <td>Incoming</td>\n",
       "      <td>29AUG2017:12:58:36</td>\n",
       "      <td>188014.0</td>\n",
       "      <td></td>\n",
       "      <td>0.0</td>\n",
       "      <td>0.0</td>\n",
       "      <td>0.0</td>\n",
       "      <td>0.0</td>\n",
       "      <td>49.82361</td>\n",
       "      <td>24.015000</td>\n",
       "      <td></td>\n",
       "      <td>1.0</td>\n",
       "      <td></td>\n",
       "      <td></td>\n",
       "      <td></td>\n",
       "      <td></td>\n",
       "      <td></td>\n",
       "      <td>0</td>\n",
       "      <td>1</td>\n",
       "      <td>0</td>\n",
       "      <td>0</td>\n",
       "      <td>0</td>\n",
       "      <td>0</td>\n",
       "      <td>0</td>\n",
       "      <td>0</td>\n",
       "      <td>0</td>\n",
       "    </tr>\n",
       "    <tr>\n",
       "      <th>2</th>\n",
       "      <td>148731</td>\n",
       "      <td>239056</td>\n",
       "      <td>network_ser</td>\n",
       "      <td>omo_voice</td>\n",
       "      <td>Incoming</td>\n",
       "      <td>27AUG2017:19:57:30</td>\n",
       "      <td>1333643.0</td>\n",
       "      <td></td>\n",
       "      <td>0.0</td>\n",
       "      <td>0.3</td>\n",
       "      <td>0.0</td>\n",
       "      <td>0.0</td>\n",
       "      <td>49.80861</td>\n",
       "      <td>24.017222</td>\n",
       "      <td></td>\n",
       "      <td>1.0</td>\n",
       "      <td></td>\n",
       "      <td></td>\n",
       "      <td></td>\n",
       "      <td></td>\n",
       "      <td></td>\n",
       "      <td>0</td>\n",
       "      <td>1</td>\n",
       "      <td>0</td>\n",
       "      <td>0</td>\n",
       "      <td>0</td>\n",
       "      <td>0</td>\n",
       "      <td>0</td>\n",
       "      <td>0</td>\n",
       "      <td>0</td>\n",
       "    </tr>\n",
       "    <tr>\n",
       "      <th>3</th>\n",
       "      <td>148731</td>\n",
       "      <td>239056</td>\n",
       "      <td>network_ser</td>\n",
       "      <td>omo_sms</td>\n",
       "      <td>Incoming</td>\n",
       "      <td>28AUG2017:00:53:39</td>\n",
       "      <td>1335488.0</td>\n",
       "      <td></td>\n",
       "      <td>0.0</td>\n",
       "      <td>0.0</td>\n",
       "      <td>0.0</td>\n",
       "      <td>0.0</td>\n",
       "      <td>49.80861</td>\n",
       "      <td>24.017222</td>\n",
       "      <td></td>\n",
       "      <td>1.0</td>\n",
       "      <td></td>\n",
       "      <td></td>\n",
       "      <td></td>\n",
       "      <td></td>\n",
       "      <td></td>\n",
       "      <td>0</td>\n",
       "      <td>1</td>\n",
       "      <td>0</td>\n",
       "      <td>0</td>\n",
       "      <td>0</td>\n",
       "      <td>0</td>\n",
       "      <td>0</td>\n",
       "      <td>0</td>\n",
       "      <td>0</td>\n",
       "    </tr>\n",
       "    <tr>\n",
       "      <th>4</th>\n",
       "      <td>148731</td>\n",
       "      <td>239056</td>\n",
       "      <td>network_ser</td>\n",
       "      <td>omo_sms</td>\n",
       "      <td>Incoming</td>\n",
       "      <td>28AUG2017:00:53:48</td>\n",
       "      <td>1335488.0</td>\n",
       "      <td></td>\n",
       "      <td>0.0</td>\n",
       "      <td>0.0</td>\n",
       "      <td>0.0</td>\n",
       "      <td>0.0</td>\n",
       "      <td>49.80861</td>\n",
       "      <td>24.017222</td>\n",
       "      <td></td>\n",
       "      <td>1.0</td>\n",
       "      <td></td>\n",
       "      <td></td>\n",
       "      <td></td>\n",
       "      <td></td>\n",
       "      <td></td>\n",
       "      <td>0</td>\n",
       "      <td>1</td>\n",
       "      <td>0</td>\n",
       "      <td>0</td>\n",
       "      <td>0</td>\n",
       "      <td>0</td>\n",
       "      <td>0</td>\n",
       "      <td>0</td>\n",
       "      <td>0</td>\n",
       "    </tr>\n",
       "  </tbody>\n",
       "</table>\n",
       "</div>"
      ],
      "text/plain": [
       "   hash_number_A  hash_tariff   event_type  event_sub  \\\n",
       "0         148731       239056  network_ser    content   \n",
       "1         148731       239056  network_ser    content   \n",
       "2         148731       239056  network_ser  omo_voice   \n",
       "3         148731       239056  network_ser    omo_sms   \n",
       "4         148731       239056  network_ser    omo_sms   \n",
       "\n",
       "  network_service_direction     event_start_date  hash_b_number  \\\n",
       "0                  Incoming   28AUG2017:00:53:31       188014.0   \n",
       "1                  Incoming   29AUG2017:12:58:36       188014.0   \n",
       "2                  Incoming   27AUG2017:19:57:30      1333643.0   \n",
       "3                  Incoming   28AUG2017:00:53:39      1335488.0   \n",
       "4                  Incoming   28AUG2017:00:53:48      1335488.0   \n",
       "\n",
       "  number_B_category  cost  call_duration_minutes  data_volume_mb  \\\n",
       "0                     0.0                    0.0             0.0   \n",
       "1                     0.0                    0.0             0.0   \n",
       "2                     0.0                    0.3             0.0   \n",
       "3                     0.0                    0.0             0.0   \n",
       "4                     0.0                    0.0             0.0   \n",
       "\n",
       "   hash_accum_code       LAT        LON device_type  phone_price_category  \\\n",
       "0              0.0  49.80861  24.017222                               1.0   \n",
       "1              0.0  49.82361  24.015000                               1.0   \n",
       "2              0.0  49.80861  24.017222                               1.0   \n",
       "3              0.0  49.80861  24.017222                               1.0   \n",
       "4              0.0  49.80861  24.017222                               1.0   \n",
       "\n",
       "  interest_1 interest_2 interest_3 interest_4 interest_5  test_flag  target  \\\n",
       "0                                                                 0       1   \n",
       "1                                                                 0       1   \n",
       "2                                                                 0       1   \n",
       "3                                                                 0       1   \n",
       "4                                                                 0       1   \n",
       "\n",
       "   facebook_user  instagram_user  twitter_user  youtube_user  viber_user  \\\n",
       "0              0               0             0             0           0   \n",
       "1              0               0             0             0           0   \n",
       "2              0               0             0             0           0   \n",
       "3              0               0             0             0           0   \n",
       "4              0               0             0             0           0   \n",
       "\n",
       "   whatsapp_user  skype_user  \n",
       "0              0           0  \n",
       "1              0           0  \n",
       "2              0           0  \n",
       "3              0           0  \n",
       "4              0           0  "
      ]
     },
     "execution_count": 8,
     "metadata": {},
     "output_type": "execute_result"
    }
   ],
   "source": [
    "# large Lviv\n",
    "df_large_Lviv = pd.read_csv(\"bd_lab_large_Lviv.csv\", nrows = 200)\n",
    "df_large_Lviv.head()"
   ]
  },
  {
   "cell_type": "code",
   "execution_count": 28,
   "metadata": {
    "collapsed": false
   },
   "outputs": [
    {
     "name": "stderr",
     "output_type": "stream",
     "text": [
      "/home/ogilvy/anaconda3/lib/python3.5/site-packages/IPython/core/interactiveshell.py:2717: DtypeWarning: Columns (10) have mixed types. Specify dtype option on import or set low_memory=False.\n",
      "  interactivity=interactivity, compiler=compiler, result=result)\n"
     ]
    },
    {
     "data": {
      "text/plain": [
       "1327629"
      ]
     },
     "execution_count": 28,
     "metadata": {},
     "output_type": "execute_result"
    }
   ],
   "source": [
    "df = pd.read_csv(\"BD_LAB_EXAMPLE_SAMPLE.csv\", encoding=\"cp1251\", na_values='.')\n",
    "len(df)"
   ]
  },
  {
   "cell_type": "code",
   "execution_count": 29,
   "metadata": {
    "collapsed": false
   },
   "outputs": [
    {
     "data": {
      "text/html": [
       "<div>\n",
       "<table border=\"1\" class=\"dataframe\">\n",
       "  <thead>\n",
       "    <tr style=\"text-align: right;\">\n",
       "      <th></th>\n",
       "      <th>hash_number_A</th>\n",
       "      <th>hash_tariff</th>\n",
       "      <th>event</th>\n",
       "      <th>event_sub</th>\n",
       "      <th>network_service_direction</th>\n",
       "      <th>event_start_date</th>\n",
       "      <th>LAT</th>\n",
       "      <th>LON</th>\n",
       "      <th>cost</th>\n",
       "      <th>hash_number_B</th>\n",
       "      <th>...</th>\n",
       "      <th>call_duration_minutes</th>\n",
       "      <th>data_volume_mb</th>\n",
       "      <th>hash_accum_code</th>\n",
       "      <th>device_type</th>\n",
       "      <th>phone_price_category</th>\n",
       "      <th>interest_1</th>\n",
       "      <th>interest_2</th>\n",
       "      <th>interest_3</th>\n",
       "      <th>interest_4</th>\n",
       "      <th>interest_5</th>\n",
       "    </tr>\n",
       "  </thead>\n",
       "  <tbody>\n",
       "    <tr>\n",
       "      <th>0</th>\n",
       "      <td>1994159</td>\n",
       "      <td>232217</td>\n",
       "      <td>service_fee</td>\n",
       "      <td>service_fee_430</td>\n",
       "      <td>NaN</td>\n",
       "      <td>08AUG17:02:45:27</td>\n",
       "      <td>NaN</td>\n",
       "      <td>NaN</td>\n",
       "      <td>39.9989</td>\n",
       "      <td>0</td>\n",
       "      <td>...</td>\n",
       "      <td>NaN</td>\n",
       "      <td>NaN</td>\n",
       "      <td>0</td>\n",
       "      <td>phone</td>\n",
       "      <td>1.0</td>\n",
       "      <td>NaN</td>\n",
       "      <td>NaN</td>\n",
       "      <td>NaN</td>\n",
       "      <td>NaN</td>\n",
       "      <td>NaN</td>\n",
       "    </tr>\n",
       "    <tr>\n",
       "      <th>1</th>\n",
       "      <td>1780148</td>\n",
       "      <td>35230</td>\n",
       "      <td>service_fee</td>\n",
       "      <td>service_fee_570</td>\n",
       "      <td>NaN</td>\n",
       "      <td>27JUL17:05:40:04</td>\n",
       "      <td>NaN</td>\n",
       "      <td>NaN</td>\n",
       "      <td>1.0625</td>\n",
       "      <td>0</td>\n",
       "      <td>...</td>\n",
       "      <td>NaN</td>\n",
       "      <td>NaN</td>\n",
       "      <td>0</td>\n",
       "      <td>smartphone</td>\n",
       "      <td>2.0</td>\n",
       "      <td>NaN</td>\n",
       "      <td>NaN</td>\n",
       "      <td>NaN</td>\n",
       "      <td>NaN</td>\n",
       "      <td>NaN</td>\n",
       "    </tr>\n",
       "    <tr>\n",
       "      <th>2</th>\n",
       "      <td>1788625</td>\n",
       "      <td>232217</td>\n",
       "      <td>account_ref</td>\n",
       "      <td>refill_1</td>\n",
       "      <td>NaN</td>\n",
       "      <td>10AUG17:11:12:33</td>\n",
       "      <td>NaN</td>\n",
       "      <td>NaN</td>\n",
       "      <td>50.0000</td>\n",
       "      <td>0</td>\n",
       "      <td>...</td>\n",
       "      <td>NaN</td>\n",
       "      <td>NaN</td>\n",
       "      <td>0</td>\n",
       "      <td>smartphone</td>\n",
       "      <td>2.0</td>\n",
       "      <td>Досуг</td>\n",
       "      <td>Новости и СМИ</td>\n",
       "      <td>Hi-Tech</td>\n",
       "      <td>Справка</td>\n",
       "      <td>Бизнес и экономика</td>\n",
       "    </tr>\n",
       "    <tr>\n",
       "      <th>3</th>\n",
       "      <td>1656133</td>\n",
       "      <td>237875</td>\n",
       "      <td>account_ref</td>\n",
       "      <td>refill_2</td>\n",
       "      <td>NaN</td>\n",
       "      <td>04JUL17:15:36:42</td>\n",
       "      <td>NaN</td>\n",
       "      <td>NaN</td>\n",
       "      <td>100.0000</td>\n",
       "      <td>0</td>\n",
       "      <td>...</td>\n",
       "      <td>NaN</td>\n",
       "      <td>NaN</td>\n",
       "      <td>0</td>\n",
       "      <td>smartphone</td>\n",
       "      <td>2.0</td>\n",
       "      <td>NaN</td>\n",
       "      <td>NaN</td>\n",
       "      <td>NaN</td>\n",
       "      <td>NaN</td>\n",
       "      <td>NaN</td>\n",
       "    </tr>\n",
       "    <tr>\n",
       "      <th>4</th>\n",
       "      <td>1783561</td>\n",
       "      <td>232217</td>\n",
       "      <td>unblocking</td>\n",
       "      <td>blocking_1</td>\n",
       "      <td>NaN</td>\n",
       "      <td>19JUN17:16:03:20</td>\n",
       "      <td>NaN</td>\n",
       "      <td>NaN</td>\n",
       "      <td>NaN</td>\n",
       "      <td>0</td>\n",
       "      <td>...</td>\n",
       "      <td>NaN</td>\n",
       "      <td>NaN</td>\n",
       "      <td>0</td>\n",
       "      <td>smartphone</td>\n",
       "      <td>2.0</td>\n",
       "      <td>Справка</td>\n",
       "      <td>Hi-Tech</td>\n",
       "      <td>Дом и семья</td>\n",
       "      <td>Новости и СМИ</td>\n",
       "      <td>Наука и образование</td>\n",
       "    </tr>\n",
       "  </tbody>\n",
       "</table>\n",
       "<p>5 rows × 21 columns</p>\n",
       "</div>"
      ],
      "text/plain": [
       "   hash_number_A  hash_tariff        event        event_sub  \\\n",
       "0        1994159       232217  service_fee  service_fee_430   \n",
       "1        1780148        35230  service_fee  service_fee_570   \n",
       "2        1788625       232217  account_ref         refill_1   \n",
       "3        1656133       237875  account_ref         refill_2   \n",
       "4        1783561       232217   unblocking       blocking_1   \n",
       "\n",
       "  network_service_direction  event_start_date  LAT  LON      cost  \\\n",
       "0                       NaN  08AUG17:02:45:27  NaN  NaN   39.9989   \n",
       "1                       NaN  27JUL17:05:40:04  NaN  NaN    1.0625   \n",
       "2                       NaN  10AUG17:11:12:33  NaN  NaN   50.0000   \n",
       "3                       NaN  04JUL17:15:36:42  NaN  NaN  100.0000   \n",
       "4                       NaN  19JUN17:16:03:20  NaN  NaN       NaN   \n",
       "\n",
       "   hash_number_B         ...          call_duration_minutes  data_volume_mb  \\\n",
       "0              0         ...                            NaN             NaN   \n",
       "1              0         ...                            NaN             NaN   \n",
       "2              0         ...                            NaN             NaN   \n",
       "3              0         ...                            NaN             NaN   \n",
       "4              0         ...                            NaN             NaN   \n",
       "\n",
       "   hash_accum_code  device_type phone_price_category  interest_1  \\\n",
       "0                0        phone                  1.0         NaN   \n",
       "1                0   smartphone                  2.0         NaN   \n",
       "2                0   smartphone                  2.0       Досуг   \n",
       "3                0   smartphone                  2.0         NaN   \n",
       "4                0   smartphone                  2.0     Справка   \n",
       "\n",
       "      interest_2   interest_3     interest_4           interest_5  \n",
       "0            NaN          NaN            NaN                  NaN  \n",
       "1            NaN          NaN            NaN                  NaN  \n",
       "2  Новости и СМИ      Hi-Tech        Справка   Бизнес и экономика  \n",
       "3            NaN          NaN            NaN                  NaN  \n",
       "4        Hi-Tech  Дом и семья  Новости и СМИ  Наука и образование  \n",
       "\n",
       "[5 rows x 21 columns]"
      ]
     },
     "execution_count": 29,
     "metadata": {},
     "output_type": "execute_result"
    }
   ],
   "source": [
    "df.head()"
   ]
  },
  {
   "cell_type": "code",
   "execution_count": 30,
   "metadata": {
    "collapsed": false
   },
   "outputs": [
    {
     "data": {
      "text/plain": [
       "0   NaN\n",
       "1   NaN\n",
       "2   NaN\n",
       "3   NaN\n",
       "4   NaN\n",
       "Name: LAT, dtype: float64"
      ]
     },
     "execution_count": 30,
     "metadata": {},
     "output_type": "execute_result"
    }
   ],
   "source": [
    "df.LAT.astype(float).head()"
   ]
  },
  {
   "cell_type": "code",
   "execution_count": 8,
   "metadata": {
    "collapsed": false
   },
   "outputs": [
    {
     "data": {
      "text/plain": [
       "True"
      ]
     },
     "execution_count": 8,
     "metadata": {},
     "output_type": "execute_result"
    }
   ],
   "source": [
    "np.any(type(df[\"LAT\"]) != type(\"1\"))"
   ]
  },
  {
   "cell_type": "code",
   "execution_count": 24,
   "metadata": {
    "collapsed": false
   },
   "outputs": [
    {
     "name": "stdout",
     "output_type": "stream",
     "text": [
      "51.212778541\n",
      "50.362776252\n",
      "50.362776252\n",
      "51.340276506\n",
      "48.897779558\n",
      "48.941945462\n",
      "48.931112383\n",
      "48.940834351\n",
      "48.940834351\n",
      "48.940834351\n",
      "48.940834351\n"
     ]
    }
   ],
   "source": [
    "df_lat = df[\"LAT\"]\n",
    "num = 0\n",
    "for lat in df_lat:\n",
    "    if type(lat) == type(\"str\") and lat != '.':\n",
    "        print(lat)\n",
    "        num += 1\n",
    "        if num > 10:\n",
    "            break"
   ]
  },
  {
   "cell_type": "code",
   "execution_count": 7,
   "metadata": {
    "collapsed": false
   },
   "outputs": [
    {
     "name": "stderr",
     "output_type": "stream",
     "text": [
      "/home/ogilvy/anaconda3/lib/python3.5/site-packages/IPython/core/interactiveshell.py:2717: DtypeWarning: Columns (6,7,8,10,11,12) have mixed types. Specify dtype option on import or set low_memory=False.\n",
      "  interactivity=interactivity, compiler=compiler, result=result)\n"
     ]
    },
    {
     "name": "stdout",
     "output_type": "stream",
     "text": [
      "0  100000\n",
      "1  100000\n",
      "2  100000\n"
     ]
    },
    {
     "name": "stderr",
     "output_type": "stream",
     "text": [
      "/home/ogilvy/anaconda3/lib/python3.5/site-packages/IPython/core/interactiveshell.py:2717: DtypeWarning: Columns (6,7,10) have mixed types. Specify dtype option on import or set low_memory=False.\n",
      "  interactivity=interactivity, compiler=compiler, result=result)\n"
     ]
    },
    {
     "name": "stdout",
     "output_type": "stream",
     "text": [
      "3  100000\n",
      "4  100000\n"
     ]
    },
    {
     "name": "stderr",
     "output_type": "stream",
     "text": [
      "/home/ogilvy/anaconda3/lib/python3.5/site-packages/IPython/core/interactiveshell.py:2717: DtypeWarning: Columns (10,15) have mixed types. Specify dtype option on import or set low_memory=False.\n",
      "  interactivity=interactivity, compiler=compiler, result=result)\n"
     ]
    },
    {
     "name": "stdout",
     "output_type": "stream",
     "text": [
      "5  100000\n"
     ]
    },
    {
     "name": "stderr",
     "output_type": "stream",
     "text": [
      "/home/ogilvy/anaconda3/lib/python3.5/site-packages/IPython/core/interactiveshell.py:2717: DtypeWarning: Columns (6,7,15) have mixed types. Specify dtype option on import or set low_memory=False.\n",
      "  interactivity=interactivity, compiler=compiler, result=result)\n"
     ]
    },
    {
     "name": "stdout",
     "output_type": "stream",
     "text": [
      "6  100000\n",
      "7  100000\n"
     ]
    },
    {
     "name": "stderr",
     "output_type": "stream",
     "text": [
      "/home/ogilvy/anaconda3/lib/python3.5/site-packages/IPython/core/interactiveshell.py:2717: DtypeWarning: Columns (6,7) have mixed types. Specify dtype option on import or set low_memory=False.\n",
      "  interactivity=interactivity, compiler=compiler, result=result)\n"
     ]
    },
    {
     "name": "stdout",
     "output_type": "stream",
     "text": [
      "8  100000\n",
      "9  100000\n",
      "10  100000\n",
      "11  100000\n",
      "12  100000\n",
      "13  27629\n",
      "\n",
      "Sum of chunk lengths = 1327629\n",
      "length of 1-chunk-dataframe = 1327629\n"
     ]
    }
   ],
   "source": [
    "chunksize = 10**5\n",
    "tot_len = 0\n",
    "for i, chunk in enumerate(pd.read_csv(\n",
    "        \"BD_LAB_EXAMPLE_SAMPLE.csv\",encoding=\"cp1251\", chunksize=chunksize)):\n",
    "    chunk_len = len(chunk)\n",
    "    tot_len += chunk_len\n",
    "    print(\"{0}  {1}\".format(i, len(chunk)))\n",
    "print(\"\\nSum of chunk lengths = {0}\".format(tot_len))\n",
    "print(\"length of 1-chunk-dataframe = {0}\".format(len(df)))"
   ]
  },
  {
   "cell_type": "code",
   "execution_count": 4,
   "metadata": {
    "collapsed": false
   },
   "outputs": [
    {
     "name": "stdout",
     "output_type": "stream",
     "text": [
      "1° of latitude = 111.43 km\n",
      "1° of longitude = 71.93 km\n"
     ]
    }
   ],
   "source": [
    "# Lviv center coordinates\n",
    "center_lat, center_lon = 49.84, 24.03  # Lviv\n",
    "#center_lat, center_lon = 48.28, 25.94  # Chernivtsi\n",
    "\n",
    "\n",
    "## calculate length in km of 1 degree for latitude and longitude\n",
    "a = 6378.137; b = 6356.752 # semiaxis of Earth ellipsoid in km\n",
    "e2 = (a**2 - b**2) / a**2 # eccentricity of Earth\n",
    "\n",
    "# Convert degree to radians\n",
    "def deg_to_rad(phi):\n",
    "    return np.pi * phi / 180\n",
    "\n",
    "# one degree of latitude and longitude in km\n",
    "deg_lat_in_km = np.pi / 180 * a * (1-e2) /\\\n",
    "            (1 - e2*np.sin(deg_to_rad(center_lat)))**1.5\n",
    "deg_lon_in_km = np.pi / 180 * a * np.cos(deg_to_rad(center_lat)) /\\\n",
    "             np.sqrt(1 - e2*np.sin(deg_to_rad(center_lat))**2 )\n",
    "\n",
    "print(\"1° of latitude = {0:5.2f} km\".format(deg_lat_in_km)) \n",
    "print(\"1° of longitude = {0:5.2f} km\".format(deg_lon_in_km))\n",
    "\n",
    "#Convert distance in km to degrees\n",
    "def km_to_lat(x):\n",
    "    return x / deg_lat_in_km\n",
    "\n",
    "def km_to_lon(x):\n",
    "    return x / deg_lon_in_km\n",
    "\n",
    "# Radius of Lviv \n",
    "city_radius = 10 # km\n",
    "\n",
    "# check if point is inside circle with radius `city_radius` and center in (center_lat, center_lon)\n",
    "def isInCity_radius(lat, lon, center_lat, center_lon, city_radius):\n",
    "    \"\"\"True if (lat,lon) is in City, False otherwise\"\"\"\n",
    "    return ((lat - center_lat)**2 / km_to_lat(city_radius)**2 +\n",
    "            (lon - center_lon)**2 / km_to_lon(city_radius)**2) < 1\n",
    "\n"
   ]
  },
  {
   "cell_type": "code",
   "execution_count": 58,
   "metadata": {
    "collapsed": false
   },
   "outputs": [
    {
     "name": "stdout",
     "output_type": "stream",
     "text": [
      "0:00:00.000249\n"
     ]
    }
   ],
   "source": [
    "start = datetime.datetime.now()\n",
    "finish = datetime.datetime.now()\n",
    "print(finish - start)"
   ]
  },
  {
   "cell_type": "code",
   "execution_count": 60,
   "metadata": {
    "collapsed": false
   },
   "outputs": [
    {
     "name": "stdout",
     "output_type": "stream",
     "text": [
      "Chunksize = 100000\n"
     ]
    },
    {
     "name": "stderr",
     "output_type": "stream",
     "text": [
      "/home/ogilvy/anaconda3/lib/python3.5/site-packages/IPython/core/interactiveshell.py:2717: DtypeWarning: Columns (10) have mixed types. Specify dtype option on import or set low_memory=False.\n",
      "  interactivity=interactivity, compiler=compiler, result=result)\n"
     ]
    },
    {
     "name": "stdout",
     "output_type": "stream",
     "text": [
      "chunk 0: 2031 records from Lviv\n",
      "chunk 1: 4408 records from Lviv\n",
      "chunk 2: 1720 records from Lviv\n",
      "chunk 3: 2224 records from Lviv\n",
      "chunk 4: 1985 records from Lviv\n",
      "chunk 5: 5465 records from Lviv\n",
      "chunk 6: 1006 records from Lviv\n",
      "chunk 7: 3362 records from Lviv\n",
      "chunk 8: 1693 records from Lviv\n",
      "chunk 9: 4701 records from Lviv\n",
      "chunk 10: 2517 records from Lviv\n",
      "chunk 11: 2128 records from Lviv\n",
      "chunk 12: 3840 records from Lviv\n",
      "chunk 13: 7997 records from Lviv\n",
      "0:00:37.665153\n"
     ]
    }
   ],
   "source": [
    "## MAIN\n",
    "## Load and save dataframe by chunks\n",
    "\n",
    "start_time = datetime.datetime.now()\n",
    "\n",
    "chunksize = 10**5\n",
    "print(\"Chunksize = {0}\".format(chunksize))\n",
    "# delete previous Lviv_only.csv\n",
    "os.remove(\"Lviv_only.csv\")\n",
    "for (i, chunk) in enumerate(pd.read_csv(\"BD_LAB_EXAMPLE_SAMPLE.csv\",\n",
    "                         encoding=\"cp1251\", chunksize=chunksize, na_values = '.')):\n",
    "    # Delete rows without latitude -- where LAT = '.'\n",
    "    # Write to new dataframe df_with_locat\n",
    "    \n",
    "    chunk_with_locat = chunk[chunk['LAT'] != np.nan]\n",
    "\n",
    "    ## Convert latitude and longitude from `str` into `float`\n",
    "    #chunk_with_locat['LAT'] = pd.to_numeric(chunk_with_locat['LAT'], errors = 'coerce')\n",
    "    #chunk_with_locat['LON'] = pd.to_numeric(chunk_with_locat['LON'], errors = 'coerce')\n",
    "    \n",
    "    # Convert latitude and longitude from `str` into `float`\n",
    "    chunk_with_locat['LAT'] = chunk_with_locat['LAT'].astype(float)\n",
    "    chunk_with_locat['LON'] = chunk_with_locat['LON'].astype(float)\n",
    "    \n",
    "    chunk_Lviv = chunk_with_locat[isInCity_radius(chunk_with_locat['LAT'],chunk_with_locat['LON'], \n",
    "                                     center_lat, center_lon, city_radius)]\n",
    "    print(\"chunk {0}: {1} records from Lviv\".format(i, len(chunk_Lviv)))\n",
    "    \n",
    "    \n",
    "    # to csv\n",
    "    with open(\"Lviv_only.csv\", \"a\") as f:\n",
    "        chunk_Lviv.to_csv(f, header = False)\n",
    "\n",
    "finish_time = datetime.datetime.now()\n",
    "\n",
    "print(finish_time - start_time)"
   ]
  },
  {
   "cell_type": "code",
   "execution_count": 49,
   "metadata": {
    "collapsed": false
   },
   "outputs": [
    {
     "data": {
      "text/plain": [
       "45076"
      ]
     },
     "execution_count": 49,
     "metadata": {},
     "output_type": "execute_result"
    }
   ],
   "source": [
    "df_Lviv_chunks = pd.read_csv(\"Lviv_only.csv\")\n",
    "len(df_Lviv_chunks)"
   ]
  },
  {
   "cell_type": "code",
   "execution_count": 50,
   "metadata": {
    "collapsed": false
   },
   "outputs": [
    {
     "data": {
      "text/plain": [
       "45077"
      ]
     },
     "execution_count": 50,
     "metadata": {},
     "output_type": "execute_result"
    }
   ],
   "source": [
    "len(df_Lviv)"
   ]
  },
  {
   "cell_type": "code",
   "execution_count": 8,
   "metadata": {
    "collapsed": false
   },
   "outputs": [],
   "source": [
    "## For large dataset\n",
    "#df[\"event_start_date\"] = df[\"event_start_date\"].apply(lambda x: x[1:]).head()"
   ]
  },
  {
   "cell_type": "code",
   "execution_count": 10,
   "metadata": {
    "collapsed": true
   },
   "outputs": [],
   "source": [
    "# Convert column `envent_start_date` (`str`) into  `datetime`\n",
    "df.event_start_date = pd.to_datetime(df.event_start_date, format='%d%b%y:%H:%M:%S')\n",
    "\n",
    "# Convert column 'cost' (`str`) into `float`\n",
    "df['cost'] = pd.to_numeric(df['cost'],errors='coerce')"
   ]
  },
  {
   "cell_type": "code",
   "execution_count": 40,
   "metadata": {
    "collapsed": false
   },
   "outputs": [],
   "source": [
    "# Delete rows without latitude -- where LAT = '.'\n",
    "# Write to new dataframe df_with_locat\n",
    "df_with_locat = df[df['LAT'] != np.nan]\n",
    "\n",
    "# Convert latitude and longitude from `str` into `float`\n",
    "df_with_locat['LAT'] = pd.to_numeric(df_with_locat['LAT'], errors = 'coerce')\n",
    "df_with_locat['LON'] = pd.to_numeric(df_with_locat['LON'], errors = 'coerce')"
   ]
  },
  {
   "cell_type": "markdown",
   "metadata": {},
   "source": [
    "#### Кількість людей в радіусі від центру міста (Львова)"
   ]
  },
  {
   "cell_type": "code",
   "execution_count": 41,
   "metadata": {
    "collapsed": false
   },
   "outputs": [
    {
     "name": "stdout",
     "output_type": "stream",
     "text": [
      "1° of latitude = 111.43 km\n",
      "1° of longitude = 71.93 km\n"
     ]
    }
   ],
   "source": [
    "# Lviv center coordinates\n",
    "center_lat, center_lon = 49.84, 24.03  # Lviv\n",
    "#center_lat, center_lon = 48.28, 25.94  # Chernivtsi\n",
    "\n",
    "\n",
    "## calculate length in km of 1 degree for latitude and longitude\n",
    "a = 6378.137; b = 6356.752 # semiaxis of Earth ellipsoid in km\n",
    "e2 = (a**2 - b**2) / a**2 # eccentricity of Earth\n",
    "\n",
    "# Convert degree to radians\n",
    "def deg_to_rad(phi):\n",
    "    return np.pi * phi / 180\n",
    "\n",
    "# one degree of latitude and longitude in km\n",
    "deg_lat_in_km = np.pi / 180 * a * (1-e2) /\\\n",
    "            (1 - e2*np.sin(deg_to_rad(center_lat)))**1.5\n",
    "deg_lon_in_km = np.pi / 180 * a * np.cos(deg_to_rad(center_lat)) /\\\n",
    "             np.sqrt(1 - e2*np.sin(deg_to_rad(center_lat))**2 )\n",
    "\n",
    "print(\"1° of latitude = {0:5.2f} km\".format(deg_lat_in_km)) \n",
    "print(\"1° of longitude = {0:5.2f} km\".format(deg_lon_in_km))"
   ]
  },
  {
   "cell_type": "code",
   "execution_count": 13,
   "metadata": {
    "collapsed": true
   },
   "outputs": [],
   "source": [
    "#Convert distance in km to degrees\n",
    "def km_to_lat(x):\n",
    "    return x / deg_lat_in_km\n",
    "\n",
    "def km_to_lon(x):\n",
    "    return x / deg_lon_in_km"
   ]
  },
  {
   "cell_type": "code",
   "execution_count": 42,
   "metadata": {
    "collapsed": false
   },
   "outputs": [],
   "source": [
    "# Radius of Lviv \n",
    "city_radius = 10 # km\n",
    "\n",
    "# check if point is inside circle with radius `city_radius` and center in (center_lat, center_lon)\n",
    "def isInCity_radius(lat, lon, center_lat, center_lon, city_radius):\n",
    "    \"\"\"True if (lat,lon) is in City, False otherwise\"\"\"\n",
    "    return ((lat - center_lat)**2 / km_to_lat(city_radius)**2 +\n",
    "            (lon - center_lon)**2 / km_to_lon(city_radius)**2) < 1\n",
    "\n",
    "\n",
    "df_Lviv = df_with_locat[isInCity_radius(df_with_locat['LAT'],df_with_locat['LON'], \n",
    "                                 center_lat, center_lon, city_radius)]\n"
   ]
  },
  {
   "cell_type": "code",
   "execution_count": 43,
   "metadata": {
    "collapsed": false
   },
   "outputs": [
    {
     "data": {
      "text/plain": [
       "45077"
      ]
     },
     "execution_count": 43,
     "metadata": {},
     "output_type": "execute_result"
    }
   ],
   "source": [
    "\n",
    "len(df_Lviv)"
   ]
  },
  {
   "cell_type": "code",
   "execution_count": 16,
   "metadata": {
    "collapsed": true
   },
   "outputs": [],
   "source": [
    "# Export to csv\n",
    "df_Lviv.to_csv(\"example_sample_LVIV.csv\")"
   ]
  },
  {
   "cell_type": "code",
   "execution_count": 17,
   "metadata": {
    "collapsed": false
   },
   "outputs": [
    {
     "name": "stderr",
     "output_type": "stream",
     "text": [
      "/home/ogilvy/anaconda3/lib/python3.5/site-packages/IPython/core/interactiveshell.py:2717: DtypeWarning: Columns (16) have mixed types. Specify dtype option on import or set low_memory=False.\n",
      "  interactivity=interactivity, compiler=compiler, result=result)\n"
     ]
    }
   ],
   "source": [
    "df_Lviv = pd.read_csv(\"example_sample_LVIV.csv\")"
   ]
  },
  {
   "cell_type": "code",
   "execution_count": 18,
   "metadata": {
    "collapsed": false
   },
   "outputs": [
    {
     "data": {
      "text/plain": [
       "45077"
      ]
     },
     "execution_count": 18,
     "metadata": {},
     "output_type": "execute_result"
    }
   ],
   "source": [
    "len(df_Lviv)"
   ]
  },
  {
   "cell_type": "code",
   "execution_count": 19,
   "metadata": {
    "collapsed": false
   },
   "outputs": [
    {
     "data": {
      "text/html": [
       "<div>\n",
       "<table border=\"1\" class=\"dataframe\">\n",
       "  <thead>\n",
       "    <tr style=\"text-align: right;\">\n",
       "      <th></th>\n",
       "      <th>Unnamed: 0</th>\n",
       "      <th>hash_number_A</th>\n",
       "      <th>hash_tariff</th>\n",
       "      <th>event</th>\n",
       "      <th>event_sub</th>\n",
       "      <th>network_service_direction</th>\n",
       "      <th>event_start_date</th>\n",
       "      <th>LAT</th>\n",
       "      <th>LON</th>\n",
       "      <th>cost</th>\n",
       "      <th>...</th>\n",
       "      <th>call_duration_minutes</th>\n",
       "      <th>data_volume_mb</th>\n",
       "      <th>hash_accum_code</th>\n",
       "      <th>device_type</th>\n",
       "      <th>phone_price_category</th>\n",
       "      <th>interest_1</th>\n",
       "      <th>interest_2</th>\n",
       "      <th>interest_3</th>\n",
       "      <th>interest_4</th>\n",
       "      <th>interest_5</th>\n",
       "    </tr>\n",
       "  </thead>\n",
       "  <tbody>\n",
       "    <tr>\n",
       "      <th>0</th>\n",
       "      <td>14420</td>\n",
       "      <td>1985801</td>\n",
       "      <td>231925</td>\n",
       "      <td>network_ser</td>\n",
       "      <td>international_voice</td>\n",
       "      <td>Incoming</td>\n",
       "      <td>2017-06-17 19:38:29</td>\n",
       "      <td>49.795277</td>\n",
       "      <td>24.064999</td>\n",
       "      <td>0.0</td>\n",
       "      <td>...</td>\n",
       "      <td>1.533333</td>\n",
       "      <td>0.0</td>\n",
       "      <td>0</td>\n",
       "      <td>smartphone</td>\n",
       "      <td>3</td>\n",
       "      <td>Новости и СМИ</td>\n",
       "      <td>Hi-Tech</td>\n",
       "      <td>Досуг</td>\n",
       "      <td>Справка</td>\n",
       "      <td>Дом и семья</td>\n",
       "    </tr>\n",
       "    <tr>\n",
       "      <th>1</th>\n",
       "      <td>14421</td>\n",
       "      <td>1985801</td>\n",
       "      <td>231925</td>\n",
       "      <td>network_ser</td>\n",
       "      <td>international_voice</td>\n",
       "      <td>Incoming</td>\n",
       "      <td>2017-06-17 20:51:38</td>\n",
       "      <td>49.774444</td>\n",
       "      <td>24.124445</td>\n",
       "      <td>0.0</td>\n",
       "      <td>...</td>\n",
       "      <td>0.733333</td>\n",
       "      <td>0.0</td>\n",
       "      <td>0</td>\n",
       "      <td>smartphone</td>\n",
       "      <td>3</td>\n",
       "      <td>Новости и СМИ</td>\n",
       "      <td>Hi-Tech</td>\n",
       "      <td>Досуг</td>\n",
       "      <td>Справка</td>\n",
       "      <td>Дом и семья</td>\n",
       "    </tr>\n",
       "    <tr>\n",
       "      <th>2</th>\n",
       "      <td>14427</td>\n",
       "      <td>1985801</td>\n",
       "      <td>231925</td>\n",
       "      <td>network_ser</td>\n",
       "      <td>other_sms</td>\n",
       "      <td>Incoming</td>\n",
       "      <td>2017-06-17 18:57:18</td>\n",
       "      <td>49.795277</td>\n",
       "      <td>24.064999</td>\n",
       "      <td>0.0</td>\n",
       "      <td>...</td>\n",
       "      <td>0.000000</td>\n",
       "      <td>0.0</td>\n",
       "      <td>0</td>\n",
       "      <td>smartphone</td>\n",
       "      <td>3</td>\n",
       "      <td>Новости и СМИ</td>\n",
       "      <td>Hi-Tech</td>\n",
       "      <td>Досуг</td>\n",
       "      <td>Справка</td>\n",
       "      <td>Дом и семья</td>\n",
       "    </tr>\n",
       "    <tr>\n",
       "      <th>3</th>\n",
       "      <td>14430</td>\n",
       "      <td>1985801</td>\n",
       "      <td>231925</td>\n",
       "      <td>network_ser</td>\n",
       "      <td>international_voice</td>\n",
       "      <td>Incoming</td>\n",
       "      <td>2017-06-17 20:50:53</td>\n",
       "      <td>49.816388</td>\n",
       "      <td>24.137778</td>\n",
       "      <td>0.0</td>\n",
       "      <td>...</td>\n",
       "      <td>0.516667</td>\n",
       "      <td>0.0</td>\n",
       "      <td>0</td>\n",
       "      <td>smartphone</td>\n",
       "      <td>3</td>\n",
       "      <td>Новости и СМИ</td>\n",
       "      <td>Hi-Tech</td>\n",
       "      <td>Досуг</td>\n",
       "      <td>Справка</td>\n",
       "      <td>Дом и семья</td>\n",
       "    </tr>\n",
       "    <tr>\n",
       "      <th>4</th>\n",
       "      <td>14434</td>\n",
       "      <td>1985801</td>\n",
       "      <td>231925</td>\n",
       "      <td>network_ser</td>\n",
       "      <td>international_voice</td>\n",
       "      <td>Incoming</td>\n",
       "      <td>2017-06-17 19:36:24</td>\n",
       "      <td>49.795277</td>\n",
       "      <td>24.064999</td>\n",
       "      <td>0.0</td>\n",
       "      <td>...</td>\n",
       "      <td>1.883333</td>\n",
       "      <td>0.0</td>\n",
       "      <td>0</td>\n",
       "      <td>smartphone</td>\n",
       "      <td>3</td>\n",
       "      <td>Новости и СМИ</td>\n",
       "      <td>Hi-Tech</td>\n",
       "      <td>Досуг</td>\n",
       "      <td>Справка</td>\n",
       "      <td>Дом и семья</td>\n",
       "    </tr>\n",
       "  </tbody>\n",
       "</table>\n",
       "<p>5 rows × 22 columns</p>\n",
       "</div>"
      ],
      "text/plain": [
       "   Unnamed: 0  hash_number_A  hash_tariff        event            event_sub  \\\n",
       "0       14420        1985801       231925  network_ser  international_voice   \n",
       "1       14421        1985801       231925  network_ser  international_voice   \n",
       "2       14427        1985801       231925  network_ser            other_sms   \n",
       "3       14430        1985801       231925  network_ser  international_voice   \n",
       "4       14434        1985801       231925  network_ser  international_voice   \n",
       "\n",
       "  network_service_direction     event_start_date        LAT        LON  cost  \\\n",
       "0                  Incoming  2017-06-17 19:38:29  49.795277  24.064999   0.0   \n",
       "1                  Incoming  2017-06-17 20:51:38  49.774444  24.124445   0.0   \n",
       "2                  Incoming  2017-06-17 18:57:18  49.795277  24.064999   0.0   \n",
       "3                  Incoming  2017-06-17 20:50:53  49.816388  24.137778   0.0   \n",
       "4                  Incoming  2017-06-17 19:36:24  49.795277  24.064999   0.0   \n",
       "\n",
       "      ...       call_duration_minutes data_volume_mb  hash_accum_code  \\\n",
       "0     ...                    1.533333            0.0                0   \n",
       "1     ...                    0.733333            0.0                0   \n",
       "2     ...                    0.000000            0.0                0   \n",
       "3     ...                    0.516667            0.0                0   \n",
       "4     ...                    1.883333            0.0                0   \n",
       "\n",
       "   device_type  phone_price_category     interest_1 interest_2 interest_3  \\\n",
       "0   smartphone                     3  Новости и СМИ    Hi-Tech      Досуг   \n",
       "1   smartphone                     3  Новости и СМИ    Hi-Tech      Досуг   \n",
       "2   smartphone                     3  Новости и СМИ    Hi-Tech      Досуг   \n",
       "3   smartphone                     3  Новости и СМИ    Hi-Tech      Досуг   \n",
       "4   smartphone                     3  Новости и СМИ    Hi-Tech      Досуг   \n",
       "\n",
       "  interest_4   interest_5  \n",
       "0    Справка  Дом и семья  \n",
       "1    Справка  Дом и семья  \n",
       "2    Справка  Дом и семья  \n",
       "3    Справка  Дом и семья  \n",
       "4    Справка  Дом и семья  \n",
       "\n",
       "[5 rows x 22 columns]"
      ]
     },
     "execution_count": 19,
     "metadata": {},
     "output_type": "execute_result"
    }
   ],
   "source": [
    "df_Lviv.head()"
   ]
  },
  {
   "cell_type": "code",
   "execution_count": 10,
   "metadata": {
    "collapsed": false
   },
   "outputs": [
    {
     "name": "stderr",
     "output_type": "stream",
     "text": [
      "/home/ogilvy/anaconda3/lib/python3.5/site-packages/ipykernel/__main__.py:11: SettingWithCopyWarning: \n",
      "A value is trying to be set on a copy of a slice from a DataFrame.\n",
      "Try using .loc[row_indexer,col_indexer] = value instead\n",
      "\n",
      "See the caveats in the documentation: http://pandas.pydata.org/pandas-docs/stable/indexing.html#indexing-view-versus-copy\n"
     ]
    }
   ],
   "source": [
    "# add column with number of square\n",
    "# center of the city has number (0, 0)\n",
    "\n",
    "\n",
    "# square size\n",
    "square_side_in_km = .5 # km\n",
    "dlat = km_to_lat(square_side_in_km) # square side in latitude degrees\n",
    "dlon = km_to_lon(square_side_in_km) # square side in longitude degrees\n",
    "\n",
    "df_Lviv['square'] = list(zip(np.rint((df_Lviv['LAT'] - center_lat) / dlat ), \n",
    "                             np.rint((df_Lviv['LON'] - center_lon) / dlon)))"
   ]
  },
  {
   "cell_type": "code",
   "execution_count": 11,
   "metadata": {
    "collapsed": false
   },
   "outputs": [
    {
     "data": {
      "text/plain": [
       "14420     (-10.0, 5.0)\n",
       "14421    (-15.0, 14.0)\n",
       "14427     (-10.0, 5.0)\n",
       "14430     (-5.0, 16.0)\n",
       "14434     (-10.0, 5.0)\n",
       "Name: square, dtype: object"
      ]
     },
     "execution_count": 11,
     "metadata": {},
     "output_type": "execute_result"
    }
   ],
   "source": [
    "df_Lviv['square'].head()"
   ]
  },
  {
   "cell_type": "code",
   "execution_count": 13,
   "metadata": {
    "collapsed": true
   },
   "outputs": [],
   "source": [
    "# determine number of calls for every `hash_number_A` from different squares\n",
    "square_visits = df_Lviv.groupby(['hash_number_A', 'square']).size()\n"
   ]
  },
  {
   "cell_type": "code",
   "execution_count": 14,
   "metadata": {
    "collapsed": false
   },
   "outputs": [
    {
     "data": {
      "text/plain": [
       "hash_number_A  square       \n",
       "171195         (-15.0, -3.0)      3\n",
       "               (-14.0, -1.0)      1\n",
       "172162         (-13.0, 10.0)      1\n",
       "               (-1.0, -5.0)       2\n",
       "               (4.0, -7.0)        1\n",
       "172183         (-13.0, 6.0)       1\n",
       "               (-7.0, -5.0)       1\n",
       "               (-1.0, -5.0)       2\n",
       "               (0.0, -4.0)        1\n",
       "               (0.0, 1.0)         3\n",
       "173437         (-15.0, -3.0)      1\n",
       "               (-14.0, 4.0)       1\n",
       "               (-5.0, -15.0)      1\n",
       "               (-3.0, -16.0)      3\n",
       "               (6.0, -14.0)       1\n",
       "               (7.0, -15.0)       2\n",
       "               (12.0, 14.0)       1\n",
       "173781         (-15.0, -0.0)      6\n",
       "               (-14.0, -1.0)      2\n",
       "               (-12.0, -2.0)      1\n",
       "               (-10.0, -1.0)      2\n",
       "               (-9.0, -6.0)       2\n",
       "               (-8.0, -4.0)       3\n",
       "               (-7.0, -5.0)      19\n",
       "               (-7.0, -4.0)     159\n",
       "               (-7.0, -2.0)       2\n",
       "               (-6.0, -8.0)       5\n",
       "               (-6.0, -6.0)      45\n",
       "               (-6.0, 1.0)        3\n",
       "               (-4.0, -5.0)     199\n",
       "               (-4.0, -2.0)       1\n",
       "               (-4.0, -1.0)       1\n",
       "               (-4.0, 3.0)        1\n",
       "               (-4.0, 7.0)        1\n",
       "               (-3.0, -7.0)      11\n",
       "               (-3.0, -5.0)       5\n",
       "               (-3.0, -0.0)       1\n",
       "               (-2.0, -5.0)       1\n",
       "               (-2.0, -3.0)       2\n",
       "               (-2.0, 1.0)        2\n",
       "dtype: int64"
      ]
     },
     "execution_count": 14,
     "metadata": {},
     "output_type": "execute_result"
    }
   ],
   "source": [
    "square_visits.head(40)"
   ]
  }
 ],
 "metadata": {
  "anaconda-cloud": {},
  "kernelspec": {
   "display_name": "Python [default]",
   "language": "python",
   "name": "python3"
  },
  "language_info": {
   "codemirror_mode": {
    "name": "ipython",
    "version": 3
   },
   "file_extension": ".py",
   "mimetype": "text/x-python",
   "name": "python",
   "nbconvert_exporter": "python",
   "pygments_lexer": "ipython3",
   "version": "3.5.2"
  },
  "toc": {
   "colors": {
    "hover_highlight": "#DAA520",
    "running_highlight": "#FF0000",
    "selected_highlight": "#FFD700"
   },
   "moveMenuLeft": true,
   "nav_menu": {
    "height": "191px",
    "width": "252px"
   },
   "navigate_menu": true,
   "number_sections": true,
   "sideBar": true,
   "threshold": 4,
   "toc_cell": false,
   "toc_section_display": "block",
   "toc_window_display": false,
   "widenNotebook": false
  }
 },
 "nbformat": 4,
 "nbformat_minor": 2
}
