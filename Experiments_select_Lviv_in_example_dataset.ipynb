{
 "cells": [
  {
   "cell_type": "markdown",
   "metadata": {},
   "source": [
    "### Визначення найбільш відвідуваних квадратів для кожного із абонентів\n",
    "- розбити місто на квадрати;\n",
    "- визначити для кожного користувача, які квадрати \n",
    "\n",
    "__To Do:__ Сортувати по кількості подій від найбільшої до найменшої для кожного абонента; виводити перших 2-3 квадрати"
   ]
  },
  {
   "cell_type": "code",
   "execution_count": 6,
   "metadata": {
    "collapsed": true
   },
   "outputs": [],
   "source": [
    "import pandas as pd\n",
    "import numpy as np"
   ]
  },
  {
   "cell_type": "code",
   "execution_count": 9,
   "metadata": {
    "collapsed": false
   },
   "outputs": [
    {
     "name": "stderr",
     "output_type": "stream",
     "text": [
      "/home/ogilvy/anaconda3/lib/python3.5/site-packages/IPython/core/interactiveshell.py:2717: DtypeWarning: Columns (6,7,8,10,11,12) have mixed types. Specify dtype option on import or set low_memory=False.\n",
      "  interactivity=interactivity, compiler=compiler, result=result)\n"
     ]
    }
   ],
   "source": [
    "df = pd.read_csv(\"BD_LAB_EXAMPLE_SAMPLE.csv\",encoding=\"cp1251\")"
   ]
  },
  {
   "cell_type": "code",
   "execution_count": 8,
   "metadata": {
    "collapsed": false
   },
   "outputs": [],
   "source": [
    "## For large dataset\n",
    "#df[\"event_start_date\"] = df[\"event_start_date\"].apply(lambda x: x[1:]).head()"
   ]
  },
  {
   "cell_type": "code",
   "execution_count": 10,
   "metadata": {
    "collapsed": true
   },
   "outputs": [],
   "source": [
    "# Convert column `envent_start_date` (`str`) into  `datetime`\n",
    "df.event_start_date = pd.to_datetime(df.event_start_date, format='%d%b%y:%H:%M:%S')\n",
    "\n",
    "# Convert column 'cost' (`str`) into `float`\n",
    "df['cost'] = pd.to_numeric(df['cost'],errors='coerce')"
   ]
  },
  {
   "cell_type": "code",
   "execution_count": 11,
   "metadata": {
    "collapsed": false
   },
   "outputs": [
    {
     "name": "stderr",
     "output_type": "stream",
     "text": [
      "/home/ogilvy/anaconda3/lib/python3.5/site-packages/ipykernel/__main__.py:6: SettingWithCopyWarning: \n",
      "A value is trying to be set on a copy of a slice from a DataFrame.\n",
      "Try using .loc[row_indexer,col_indexer] = value instead\n",
      "\n",
      "See the caveats in the documentation: http://pandas.pydata.org/pandas-docs/stable/indexing.html#indexing-view-versus-copy\n",
      "/home/ogilvy/anaconda3/lib/python3.5/site-packages/ipykernel/__main__.py:7: SettingWithCopyWarning: \n",
      "A value is trying to be set on a copy of a slice from a DataFrame.\n",
      "Try using .loc[row_indexer,col_indexer] = value instead\n",
      "\n",
      "See the caveats in the documentation: http://pandas.pydata.org/pandas-docs/stable/indexing.html#indexing-view-versus-copy\n"
     ]
    }
   ],
   "source": [
    "# Delete rows without latitude -- where LAT = '.'\n",
    "# Write to new dataframe df_with_locat\n",
    "df_with_locat = df[df['LAT'] != '.']\n",
    "\n",
    "# Convert latitude and longitude from `str` into `float`\n",
    "df_with_locat['LAT'] = pd.to_numeric(df_with_locat['LAT'], errors = 'coerce')\n",
    "df_with_locat['LON'] = pd.to_numeric(df_with_locat['LON'], errors = 'coerce')"
   ]
  },
  {
   "cell_type": "markdown",
   "metadata": {},
   "source": [
    "#### Кількість людей в радіусі від центру міста (Львова)"
   ]
  },
  {
   "cell_type": "code",
   "execution_count": 12,
   "metadata": {
    "collapsed": false
   },
   "outputs": [
    {
     "name": "stdout",
     "output_type": "stream",
     "text": [
      "1° of latitude = 111.43 km\n",
      "1° of longitude = 71.93 km\n"
     ]
    }
   ],
   "source": [
    "# Lviv center coordinates\n",
    "center_lat, center_lon = 49.84, 24.03  # Lviv\n",
    "#center_lat, center_lon = 48.28, 25.94  # Chernivtsi\n",
    "\n",
    "\n",
    "## calculate length in km of 1 degree for latitude and longitude\n",
    "a = 6378.137; b = 6356.752 # semiaxis of Earth ellipsoid in km\n",
    "e2 = (a**2 - b**2) / a**2 # eccentricity of Earth\n",
    "\n",
    "# Convert degree to radians\n",
    "def deg_to_rad(phi):\n",
    "    return np.pi * phi / 180\n",
    "\n",
    "# one degree of latitude and longitude in km\n",
    "deg_lat_in_km = np.pi / 180 * a * (1-e2) /\\\n",
    "            (1 - e2*np.sin(deg_to_rad(center_lat)))**1.5\n",
    "deg_lon_in_km = np.pi / 180 * a * np.cos(deg_to_rad(center_lat)) /\\\n",
    "             np.sqrt(1 - e2*np.sin(deg_to_rad(center_lat))**2 )\n",
    "\n",
    "print(\"1° of latitude = {0:5.2f} km\".format(deg_lat_in_km)) \n",
    "print(\"1° of longitude = {0:5.2f} km\".format(deg_lon_in_km))"
   ]
  },
  {
   "cell_type": "code",
   "execution_count": 13,
   "metadata": {
    "collapsed": true
   },
   "outputs": [],
   "source": [
    "#Convert distance in km to degrees\n",
    "def km_to_lat(x):\n",
    "    return x / deg_lat_in_km\n",
    "\n",
    "def km_to_lon(x):\n",
    "    return x / deg_lon_in_km"
   ]
  },
  {
   "cell_type": "code",
   "execution_count": 14,
   "metadata": {
    "collapsed": false
   },
   "outputs": [],
   "source": [
    "# Radius of Lviv \n",
    "city_radius = 10 # km\n",
    "\n",
    "# check if point is inside circle with radius `city_radius` and center in (center_lat, center_lon)\n",
    "def isInCity_radius(lat, lon, center_lat, center_lon, city_radius):\n",
    "    \"\"\"True if (lat,lon) is in City, False otherwise\"\"\"\n",
    "    return ((lat - center_lat)**2 / km_to_lat(city_radius)**2 +\n",
    "            (lon - center_lon)**2 / km_to_lon(city_radius)**2) < 1\n",
    "\n",
    "\n",
    "df_Lviv = df_with_locat[isInCity_radius(df_with_locat['LAT'],df_with_locat['LON'], \n",
    "                                 center_lat, center_lon, city_radius)]\n"
   ]
  },
  {
   "cell_type": "code",
   "execution_count": 15,
   "metadata": {
    "collapsed": false
   },
   "outputs": [
    {
     "data": {
      "text/plain": [
       "45077"
      ]
     },
     "execution_count": 15,
     "metadata": {},
     "output_type": "execute_result"
    }
   ],
   "source": [
    "\n",
    "len(df_Lviv)"
   ]
  },
  {
   "cell_type": "code",
   "execution_count": 16,
   "metadata": {
    "collapsed": true
   },
   "outputs": [],
   "source": [
    "# Export to csv\n",
    "df_Lviv.to_csv(\"example_sample_LVIV.csv\")"
   ]
  },
  {
   "cell_type": "code",
   "execution_count": 17,
   "metadata": {
    "collapsed": false
   },
   "outputs": [
    {
     "name": "stderr",
     "output_type": "stream",
     "text": [
      "/home/ogilvy/anaconda3/lib/python3.5/site-packages/IPython/core/interactiveshell.py:2717: DtypeWarning: Columns (16) have mixed types. Specify dtype option on import or set low_memory=False.\n",
      "  interactivity=interactivity, compiler=compiler, result=result)\n"
     ]
    }
   ],
   "source": [
    "df_Lviv = pd.read_csv(\"example_sample_LVIV.csv\")"
   ]
  },
  {
   "cell_type": "code",
   "execution_count": 18,
   "metadata": {
    "collapsed": false
   },
   "outputs": [
    {
     "data": {
      "text/plain": [
       "45077"
      ]
     },
     "execution_count": 18,
     "metadata": {},
     "output_type": "execute_result"
    }
   ],
   "source": [
    "len(df_Lviv)"
   ]
  },
  {
   "cell_type": "code",
   "execution_count": 19,
   "metadata": {
    "collapsed": false
   },
   "outputs": [
    {
     "data": {
      "text/html": [
       "<div>\n",
       "<table border=\"1\" class=\"dataframe\">\n",
       "  <thead>\n",
       "    <tr style=\"text-align: right;\">\n",
       "      <th></th>\n",
       "      <th>Unnamed: 0</th>\n",
       "      <th>hash_number_A</th>\n",
       "      <th>hash_tariff</th>\n",
       "      <th>event</th>\n",
       "      <th>event_sub</th>\n",
       "      <th>network_service_direction</th>\n",
       "      <th>event_start_date</th>\n",
       "      <th>LAT</th>\n",
       "      <th>LON</th>\n",
       "      <th>cost</th>\n",
       "      <th>...</th>\n",
       "      <th>call_duration_minutes</th>\n",
       "      <th>data_volume_mb</th>\n",
       "      <th>hash_accum_code</th>\n",
       "      <th>device_type</th>\n",
       "      <th>phone_price_category</th>\n",
       "      <th>interest_1</th>\n",
       "      <th>interest_2</th>\n",
       "      <th>interest_3</th>\n",
       "      <th>interest_4</th>\n",
       "      <th>interest_5</th>\n",
       "    </tr>\n",
       "  </thead>\n",
       "  <tbody>\n",
       "    <tr>\n",
       "      <th>0</th>\n",
       "      <td>14420</td>\n",
       "      <td>1985801</td>\n",
       "      <td>231925</td>\n",
       "      <td>network_ser</td>\n",
       "      <td>international_voice</td>\n",
       "      <td>Incoming</td>\n",
       "      <td>2017-06-17 19:38:29</td>\n",
       "      <td>49.795277</td>\n",
       "      <td>24.064999</td>\n",
       "      <td>0.0</td>\n",
       "      <td>...</td>\n",
       "      <td>1.533333</td>\n",
       "      <td>0.0</td>\n",
       "      <td>0</td>\n",
       "      <td>smartphone</td>\n",
       "      <td>3</td>\n",
       "      <td>Новости и СМИ</td>\n",
       "      <td>Hi-Tech</td>\n",
       "      <td>Досуг</td>\n",
       "      <td>Справка</td>\n",
       "      <td>Дом и семья</td>\n",
       "    </tr>\n",
       "    <tr>\n",
       "      <th>1</th>\n",
       "      <td>14421</td>\n",
       "      <td>1985801</td>\n",
       "      <td>231925</td>\n",
       "      <td>network_ser</td>\n",
       "      <td>international_voice</td>\n",
       "      <td>Incoming</td>\n",
       "      <td>2017-06-17 20:51:38</td>\n",
       "      <td>49.774444</td>\n",
       "      <td>24.124445</td>\n",
       "      <td>0.0</td>\n",
       "      <td>...</td>\n",
       "      <td>0.733333</td>\n",
       "      <td>0.0</td>\n",
       "      <td>0</td>\n",
       "      <td>smartphone</td>\n",
       "      <td>3</td>\n",
       "      <td>Новости и СМИ</td>\n",
       "      <td>Hi-Tech</td>\n",
       "      <td>Досуг</td>\n",
       "      <td>Справка</td>\n",
       "      <td>Дом и семья</td>\n",
       "    </tr>\n",
       "    <tr>\n",
       "      <th>2</th>\n",
       "      <td>14427</td>\n",
       "      <td>1985801</td>\n",
       "      <td>231925</td>\n",
       "      <td>network_ser</td>\n",
       "      <td>other_sms</td>\n",
       "      <td>Incoming</td>\n",
       "      <td>2017-06-17 18:57:18</td>\n",
       "      <td>49.795277</td>\n",
       "      <td>24.064999</td>\n",
       "      <td>0.0</td>\n",
       "      <td>...</td>\n",
       "      <td>0.000000</td>\n",
       "      <td>0.0</td>\n",
       "      <td>0</td>\n",
       "      <td>smartphone</td>\n",
       "      <td>3</td>\n",
       "      <td>Новости и СМИ</td>\n",
       "      <td>Hi-Tech</td>\n",
       "      <td>Досуг</td>\n",
       "      <td>Справка</td>\n",
       "      <td>Дом и семья</td>\n",
       "    </tr>\n",
       "    <tr>\n",
       "      <th>3</th>\n",
       "      <td>14430</td>\n",
       "      <td>1985801</td>\n",
       "      <td>231925</td>\n",
       "      <td>network_ser</td>\n",
       "      <td>international_voice</td>\n",
       "      <td>Incoming</td>\n",
       "      <td>2017-06-17 20:50:53</td>\n",
       "      <td>49.816388</td>\n",
       "      <td>24.137778</td>\n",
       "      <td>0.0</td>\n",
       "      <td>...</td>\n",
       "      <td>0.516667</td>\n",
       "      <td>0.0</td>\n",
       "      <td>0</td>\n",
       "      <td>smartphone</td>\n",
       "      <td>3</td>\n",
       "      <td>Новости и СМИ</td>\n",
       "      <td>Hi-Tech</td>\n",
       "      <td>Досуг</td>\n",
       "      <td>Справка</td>\n",
       "      <td>Дом и семья</td>\n",
       "    </tr>\n",
       "    <tr>\n",
       "      <th>4</th>\n",
       "      <td>14434</td>\n",
       "      <td>1985801</td>\n",
       "      <td>231925</td>\n",
       "      <td>network_ser</td>\n",
       "      <td>international_voice</td>\n",
       "      <td>Incoming</td>\n",
       "      <td>2017-06-17 19:36:24</td>\n",
       "      <td>49.795277</td>\n",
       "      <td>24.064999</td>\n",
       "      <td>0.0</td>\n",
       "      <td>...</td>\n",
       "      <td>1.883333</td>\n",
       "      <td>0.0</td>\n",
       "      <td>0</td>\n",
       "      <td>smartphone</td>\n",
       "      <td>3</td>\n",
       "      <td>Новости и СМИ</td>\n",
       "      <td>Hi-Tech</td>\n",
       "      <td>Досуг</td>\n",
       "      <td>Справка</td>\n",
       "      <td>Дом и семья</td>\n",
       "    </tr>\n",
       "  </tbody>\n",
       "</table>\n",
       "<p>5 rows × 22 columns</p>\n",
       "</div>"
      ],
      "text/plain": [
       "   Unnamed: 0  hash_number_A  hash_tariff        event            event_sub  \\\n",
       "0       14420        1985801       231925  network_ser  international_voice   \n",
       "1       14421        1985801       231925  network_ser  international_voice   \n",
       "2       14427        1985801       231925  network_ser            other_sms   \n",
       "3       14430        1985801       231925  network_ser  international_voice   \n",
       "4       14434        1985801       231925  network_ser  international_voice   \n",
       "\n",
       "  network_service_direction     event_start_date        LAT        LON  cost  \\\n",
       "0                  Incoming  2017-06-17 19:38:29  49.795277  24.064999   0.0   \n",
       "1                  Incoming  2017-06-17 20:51:38  49.774444  24.124445   0.0   \n",
       "2                  Incoming  2017-06-17 18:57:18  49.795277  24.064999   0.0   \n",
       "3                  Incoming  2017-06-17 20:50:53  49.816388  24.137778   0.0   \n",
       "4                  Incoming  2017-06-17 19:36:24  49.795277  24.064999   0.0   \n",
       "\n",
       "      ...       call_duration_minutes data_volume_mb  hash_accum_code  \\\n",
       "0     ...                    1.533333            0.0                0   \n",
       "1     ...                    0.733333            0.0                0   \n",
       "2     ...                    0.000000            0.0                0   \n",
       "3     ...                    0.516667            0.0                0   \n",
       "4     ...                    1.883333            0.0                0   \n",
       "\n",
       "   device_type  phone_price_category     interest_1 interest_2 interest_3  \\\n",
       "0   smartphone                     3  Новости и СМИ    Hi-Tech      Досуг   \n",
       "1   smartphone                     3  Новости и СМИ    Hi-Tech      Досуг   \n",
       "2   smartphone                     3  Новости и СМИ    Hi-Tech      Досуг   \n",
       "3   smartphone                     3  Новости и СМИ    Hi-Tech      Досуг   \n",
       "4   smartphone                     3  Новости и СМИ    Hi-Tech      Досуг   \n",
       "\n",
       "  interest_4   interest_5  \n",
       "0    Справка  Дом и семья  \n",
       "1    Справка  Дом и семья  \n",
       "2    Справка  Дом и семья  \n",
       "3    Справка  Дом и семья  \n",
       "4    Справка  Дом и семья  \n",
       "\n",
       "[5 rows x 22 columns]"
      ]
     },
     "execution_count": 19,
     "metadata": {},
     "output_type": "execute_result"
    }
   ],
   "source": [
    "df_Lviv.head()"
   ]
  },
  {
   "cell_type": "code",
   "execution_count": 10,
   "metadata": {
    "collapsed": false
   },
   "outputs": [
    {
     "name": "stderr",
     "output_type": "stream",
     "text": [
      "/home/ogilvy/anaconda3/lib/python3.5/site-packages/ipykernel/__main__.py:11: SettingWithCopyWarning: \n",
      "A value is trying to be set on a copy of a slice from a DataFrame.\n",
      "Try using .loc[row_indexer,col_indexer] = value instead\n",
      "\n",
      "See the caveats in the documentation: http://pandas.pydata.org/pandas-docs/stable/indexing.html#indexing-view-versus-copy\n"
     ]
    }
   ],
   "source": [
    "# add column with number of square\n",
    "# center of the city has number (0, 0)\n",
    "\n",
    "\n",
    "# square size\n",
    "square_side_in_km = .5 # km\n",
    "dlat = km_to_lat(square_side_in_km) # square side in latitude degrees\n",
    "dlon = km_to_lon(square_side_in_km) # square side in longitude degrees\n",
    "\n",
    "df_Lviv['square'] = list(zip(np.rint((df_Lviv['LAT'] - center_lat) / dlat ), \n",
    "                             np.rint((df_Lviv['LON'] - center_lon) / dlon)))"
   ]
  },
  {
   "cell_type": "code",
   "execution_count": 11,
   "metadata": {
    "collapsed": false
   },
   "outputs": [
    {
     "data": {
      "text/plain": [
       "14420     (-10.0, 5.0)\n",
       "14421    (-15.0, 14.0)\n",
       "14427     (-10.0, 5.0)\n",
       "14430     (-5.0, 16.0)\n",
       "14434     (-10.0, 5.0)\n",
       "Name: square, dtype: object"
      ]
     },
     "execution_count": 11,
     "metadata": {},
     "output_type": "execute_result"
    }
   ],
   "source": [
    "df_Lviv['square'].head()"
   ]
  },
  {
   "cell_type": "code",
   "execution_count": 13,
   "metadata": {
    "collapsed": true
   },
   "outputs": [],
   "source": [
    "# determine number of calls for every `hash_number_A` from different squares\n",
    "square_visits = df_Lviv.groupby(['hash_number_A', 'square']).size()\n"
   ]
  },
  {
   "cell_type": "code",
   "execution_count": 14,
   "metadata": {
    "collapsed": false
   },
   "outputs": [
    {
     "data": {
      "text/plain": [
       "hash_number_A  square       \n",
       "171195         (-15.0, -3.0)      3\n",
       "               (-14.0, -1.0)      1\n",
       "172162         (-13.0, 10.0)      1\n",
       "               (-1.0, -5.0)       2\n",
       "               (4.0, -7.0)        1\n",
       "172183         (-13.0, 6.0)       1\n",
       "               (-7.0, -5.0)       1\n",
       "               (-1.0, -5.0)       2\n",
       "               (0.0, -4.0)        1\n",
       "               (0.0, 1.0)         3\n",
       "173437         (-15.0, -3.0)      1\n",
       "               (-14.0, 4.0)       1\n",
       "               (-5.0, -15.0)      1\n",
       "               (-3.0, -16.0)      3\n",
       "               (6.0, -14.0)       1\n",
       "               (7.0, -15.0)       2\n",
       "               (12.0, 14.0)       1\n",
       "173781         (-15.0, -0.0)      6\n",
       "               (-14.0, -1.0)      2\n",
       "               (-12.0, -2.0)      1\n",
       "               (-10.0, -1.0)      2\n",
       "               (-9.0, -6.0)       2\n",
       "               (-8.0, -4.0)       3\n",
       "               (-7.0, -5.0)      19\n",
       "               (-7.0, -4.0)     159\n",
       "               (-7.0, -2.0)       2\n",
       "               (-6.0, -8.0)       5\n",
       "               (-6.0, -6.0)      45\n",
       "               (-6.0, 1.0)        3\n",
       "               (-4.0, -5.0)     199\n",
       "               (-4.0, -2.0)       1\n",
       "               (-4.0, -1.0)       1\n",
       "               (-4.0, 3.0)        1\n",
       "               (-4.0, 7.0)        1\n",
       "               (-3.0, -7.0)      11\n",
       "               (-3.0, -5.0)       5\n",
       "               (-3.0, -0.0)       1\n",
       "               (-2.0, -5.0)       1\n",
       "               (-2.0, -3.0)       2\n",
       "               (-2.0, 1.0)        2\n",
       "dtype: int64"
      ]
     },
     "execution_count": 14,
     "metadata": {},
     "output_type": "execute_result"
    }
   ],
   "source": [
    "square_visits.head(40)"
   ]
  }
 ],
 "metadata": {
  "anaconda-cloud": {},
  "kernelspec": {
   "display_name": "Python [default]",
   "language": "python",
   "name": "python3"
  },
  "language_info": {
   "codemirror_mode": {
    "name": "ipython",
    "version": 3
   },
   "file_extension": ".py",
   "mimetype": "text/x-python",
   "name": "python",
   "nbconvert_exporter": "python",
   "pygments_lexer": "ipython3",
   "version": "3.5.2"
  },
  "toc": {
   "colors": {
    "hover_highlight": "#DAA520",
    "running_highlight": "#FF0000",
    "selected_highlight": "#FFD700"
   },
   "moveMenuLeft": true,
   "nav_menu": {
    "height": "191px",
    "width": "252px"
   },
   "navigate_menu": true,
   "number_sections": true,
   "sideBar": true,
   "threshold": 4,
   "toc_cell": false,
   "toc_section_display": "block",
   "toc_window_display": false,
   "widenNotebook": false
  }
 },
 "nbformat": 4,
 "nbformat_minor": 2
}
