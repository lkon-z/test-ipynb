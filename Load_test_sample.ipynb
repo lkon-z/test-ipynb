{
 "cells": [
  {
   "cell_type": "code",
   "execution_count": 1,
   "metadata": {
    "collapsed": false
   },
   "outputs": [],
   "source": [
    "import pandas as pd"
   ]
  },
  {
   "cell_type": "code",
   "execution_count": 3,
   "metadata": {
    "collapsed": false
   },
   "outputs": [
    {
     "name": "stderr",
     "output_type": "stream",
     "text": [
      "/home/ogilvy/anaconda3/lib/python3.5/site-packages/IPython/core/interactiveshell.py:2717: DtypeWarning: Columns (6,7,8,10,11,12) have mixed types. Specify dtype option on import or set low_memory=False.\n",
      "  interactivity=interactivity, compiler=compiler, result=result)\n"
     ]
    }
   ],
   "source": [
    "df = pd.read_csv(\"BD_LAB_EXAMPLE_SAMPLE.csv\", encoding = \"cp1251\")"
   ]
  },
  {
   "cell_type": "code",
   "execution_count": 4,
   "metadata": {
    "collapsed": false
   },
   "outputs": [
    {
     "data": {
      "text/html": [
       "<div>\n",
       "<table border=\"1\" class=\"dataframe\">\n",
       "  <thead>\n",
       "    <tr style=\"text-align: right;\">\n",
       "      <th></th>\n",
       "      <th>hash_number_A</th>\n",
       "      <th>hash_tariff</th>\n",
       "      <th>event</th>\n",
       "      <th>event_sub</th>\n",
       "      <th>network_service_direction</th>\n",
       "      <th>event_start_date</th>\n",
       "      <th>LAT</th>\n",
       "      <th>LON</th>\n",
       "      <th>cost</th>\n",
       "      <th>hash_number_B</th>\n",
       "      <th>...</th>\n",
       "      <th>call_duration_minutes</th>\n",
       "      <th>data_volume_mb</th>\n",
       "      <th>hash_accum_code</th>\n",
       "      <th>device_type</th>\n",
       "      <th>phone_price_category</th>\n",
       "      <th>interest_1</th>\n",
       "      <th>interest_2</th>\n",
       "      <th>interest_3</th>\n",
       "      <th>interest_4</th>\n",
       "      <th>interest_5</th>\n",
       "    </tr>\n",
       "  </thead>\n",
       "  <tbody>\n",
       "    <tr>\n",
       "      <th>0</th>\n",
       "      <td>1994159</td>\n",
       "      <td>232217</td>\n",
       "      <td>service_fee</td>\n",
       "      <td>service_fee_430</td>\n",
       "      <td>NaN</td>\n",
       "      <td>08AUG17:02:45:27</td>\n",
       "      <td>.</td>\n",
       "      <td>.</td>\n",
       "      <td>39.9989</td>\n",
       "      <td>0</td>\n",
       "      <td>...</td>\n",
       "      <td>.</td>\n",
       "      <td>.</td>\n",
       "      <td>0</td>\n",
       "      <td>phone</td>\n",
       "      <td>1</td>\n",
       "      <td>NaN</td>\n",
       "      <td>NaN</td>\n",
       "      <td>NaN</td>\n",
       "      <td>NaN</td>\n",
       "      <td>NaN</td>\n",
       "    </tr>\n",
       "    <tr>\n",
       "      <th>1</th>\n",
       "      <td>1780148</td>\n",
       "      <td>35230</td>\n",
       "      <td>service_fee</td>\n",
       "      <td>service_fee_570</td>\n",
       "      <td>NaN</td>\n",
       "      <td>27JUL17:05:40:04</td>\n",
       "      <td>.</td>\n",
       "      <td>.</td>\n",
       "      <td>1.0625</td>\n",
       "      <td>0</td>\n",
       "      <td>...</td>\n",
       "      <td>.</td>\n",
       "      <td>.</td>\n",
       "      <td>0</td>\n",
       "      <td>smartphone</td>\n",
       "      <td>2</td>\n",
       "      <td>NaN</td>\n",
       "      <td>NaN</td>\n",
       "      <td>NaN</td>\n",
       "      <td>NaN</td>\n",
       "      <td>NaN</td>\n",
       "    </tr>\n",
       "    <tr>\n",
       "      <th>2</th>\n",
       "      <td>1788625</td>\n",
       "      <td>232217</td>\n",
       "      <td>account_ref</td>\n",
       "      <td>refill_1</td>\n",
       "      <td>NaN</td>\n",
       "      <td>10AUG17:11:12:33</td>\n",
       "      <td>.</td>\n",
       "      <td>.</td>\n",
       "      <td>50.0000</td>\n",
       "      <td>0</td>\n",
       "      <td>...</td>\n",
       "      <td>.</td>\n",
       "      <td>.</td>\n",
       "      <td>0</td>\n",
       "      <td>smartphone</td>\n",
       "      <td>2</td>\n",
       "      <td>Досуг</td>\n",
       "      <td>Новости и СМИ</td>\n",
       "      <td>Hi-Tech</td>\n",
       "      <td>Справка</td>\n",
       "      <td>Бизнес и экономика</td>\n",
       "    </tr>\n",
       "    <tr>\n",
       "      <th>3</th>\n",
       "      <td>1656133</td>\n",
       "      <td>237875</td>\n",
       "      <td>account_ref</td>\n",
       "      <td>refill_2</td>\n",
       "      <td>NaN</td>\n",
       "      <td>04JUL17:15:36:42</td>\n",
       "      <td>.</td>\n",
       "      <td>.</td>\n",
       "      <td>100.0000</td>\n",
       "      <td>0</td>\n",
       "      <td>...</td>\n",
       "      <td>.</td>\n",
       "      <td>.</td>\n",
       "      <td>0</td>\n",
       "      <td>smartphone</td>\n",
       "      <td>2</td>\n",
       "      <td>NaN</td>\n",
       "      <td>NaN</td>\n",
       "      <td>NaN</td>\n",
       "      <td>NaN</td>\n",
       "      <td>NaN</td>\n",
       "    </tr>\n",
       "    <tr>\n",
       "      <th>4</th>\n",
       "      <td>1783561</td>\n",
       "      <td>232217</td>\n",
       "      <td>unblocking</td>\n",
       "      <td>blocking_1</td>\n",
       "      <td>NaN</td>\n",
       "      <td>19JUN17:16:03:20</td>\n",
       "      <td>.</td>\n",
       "      <td>.</td>\n",
       "      <td>.</td>\n",
       "      <td>0</td>\n",
       "      <td>...</td>\n",
       "      <td>.</td>\n",
       "      <td>.</td>\n",
       "      <td>0</td>\n",
       "      <td>smartphone</td>\n",
       "      <td>2</td>\n",
       "      <td>Справка</td>\n",
       "      <td>Hi-Tech</td>\n",
       "      <td>Дом и семья</td>\n",
       "      <td>Новости и СМИ</td>\n",
       "      <td>Наука и образование</td>\n",
       "    </tr>\n",
       "  </tbody>\n",
       "</table>\n",
       "<p>5 rows × 21 columns</p>\n",
       "</div>"
      ],
      "text/plain": [
       "   hash_number_A  hash_tariff        event        event_sub  \\\n",
       "0        1994159       232217  service_fee  service_fee_430   \n",
       "1        1780148        35230  service_fee  service_fee_570   \n",
       "2        1788625       232217  account_ref         refill_1   \n",
       "3        1656133       237875  account_ref         refill_2   \n",
       "4        1783561       232217   unblocking       blocking_1   \n",
       "\n",
       "  network_service_direction  event_start_date LAT LON      cost  \\\n",
       "0                       NaN  08AUG17:02:45:27   .   .   39.9989   \n",
       "1                       NaN  27JUL17:05:40:04   .   .    1.0625   \n",
       "2                       NaN  10AUG17:11:12:33   .   .   50.0000   \n",
       "3                       NaN  04JUL17:15:36:42   .   .  100.0000   \n",
       "4                       NaN  19JUN17:16:03:20   .   .         .   \n",
       "\n",
       "   hash_number_B         ...          call_duration_minutes data_volume_mb  \\\n",
       "0              0         ...                              .              .   \n",
       "1              0         ...                              .              .   \n",
       "2              0         ...                              .              .   \n",
       "3              0         ...                              .              .   \n",
       "4              0         ...                              .              .   \n",
       "\n",
       "  hash_accum_code  device_type phone_price_category interest_1     interest_2  \\\n",
       "0               0        phone                    1        NaN            NaN   \n",
       "1               0   smartphone                    2        NaN            NaN   \n",
       "2               0   smartphone                    2      Досуг  Новости и СМИ   \n",
       "3               0   smartphone                    2        NaN            NaN   \n",
       "4               0   smartphone                    2    Справка        Hi-Tech   \n",
       "\n",
       "    interest_3     interest_4           interest_5  \n",
       "0          NaN            NaN                  NaN  \n",
       "1          NaN            NaN                  NaN  \n",
       "2      Hi-Tech        Справка   Бизнес и экономика  \n",
       "3          NaN            NaN                  NaN  \n",
       "4  Дом и семья  Новости и СМИ  Наука и образование  \n",
       "\n",
       "[5 rows x 21 columns]"
      ]
     },
     "execution_count": 4,
     "metadata": {},
     "output_type": "execute_result"
    }
   ],
   "source": [
    "df.head()"
   ]
  },
  {
   "cell_type": "code",
   "execution_count": 5,
   "metadata": {
    "collapsed": false
   },
   "outputs": [
    {
     "data": {
      "text/plain": [
       "Index(['hash_number_A', 'hash_tariff', 'event', 'event_sub',\n",
       "       'network_service_direction', 'event_start_date', 'LAT', 'LON', 'cost',\n",
       "       'hash_number_B', 'number_B_category', 'call_duration_minutes',\n",
       "       'data_volume_mb', 'hash_accum_code', 'device_type',\n",
       "       'phone_price_category', 'interest_1', 'interest_2', 'interest_3',\n",
       "       'interest_4', 'interest_5'],\n",
       "      dtype='object')"
      ]
     },
     "execution_count": 5,
     "metadata": {},
     "output_type": "execute_result"
    }
   ],
   "source": [
    "df.columns"
   ]
  },
  {
   "cell_type": "code",
   "execution_count": null,
   "metadata": {
    "collapsed": true
   },
   "outputs": [],
   "source": []
  }
 ],
 "metadata": {
  "anaconda-cloud": {},
  "kernelspec": {
   "display_name": "Python [default]",
   "language": "python",
   "name": "python3"
  },
  "language_info": {
   "codemirror_mode": {
    "name": "ipython",
    "version": 3
   },
   "file_extension": ".py",
   "mimetype": "text/x-python",
   "name": "python",
   "nbconvert_exporter": "python",
   "pygments_lexer": "ipython3",
   "version": "3.5.2"
  }
 },
 "nbformat": 4,
 "nbformat_minor": 1
}
